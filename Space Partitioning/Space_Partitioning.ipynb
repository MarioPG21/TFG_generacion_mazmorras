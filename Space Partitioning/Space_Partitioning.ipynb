{
 "cells": [
  {
   "cell_type": "code",
   "execution_count": 57,
   "id": "initial_id",
   "metadata": {
    "collapsed": true,
    "ExecuteTime": {
     "end_time": "2024-11-15T12:35:57.596581400Z",
     "start_time": "2024-11-15T12:35:57.565064900Z"
    }
   },
   "outputs": [],
   "source": [
    "import networkx as nx\n",
    "import matplotlib.pyplot as plt"
   ]
  },
  {
   "cell_type": "code",
   "execution_count": 58,
   "outputs": [],
   "source": [
    "import matplotlib.cm as cm  # Para usar una paleta de colores continua\n",
    "from networkx.drawing.nx_agraph import graphviz_layout\n",
    "\n",
    "def mostrar_grafo(G):\n",
    "    plt.figure(figsize=(30,30))\n",
    "    #pos = nx.spring_layout(G,k=1)\n",
    "    #pos=nx.circular_layout(G)\n",
    "    #pos=nx.shell_layout(G)\n",
    "    #pos=nx.random_layout(G)\n",
    "    #pos = graphviz_layout(G, prog='dot')\n",
    "    #pos=nx.spectral_layout(G)\n",
    "    #pos=nx.spiral_layout(G)\n",
    "    \n",
    "    pos = nx.spring_layout(G)\n",
    "    #pos = nx.kamada_kawai_layout(G)\n",
    "    \n",
    "    # Obtener todos los valores de profundidad para ajustar el rango de colores\n",
    "    profundidades = [G.nodes[node].get('profundidad', 0) for node in G.nodes]\n",
    "    \n",
    "    # Normalizar las profundidades para asignar colores continuos en una escala\n",
    "    min_prof, max_prof = min(profundidades), max(profundidades)\n",
    "    colors = [\n",
    "        cm.viridis((prof - min_prof) / (max_prof - min_prof)) if max_prof > min_prof else cm.viridis(0.5)\n",
    "        for prof in profundidades\n",
    "    ]\n",
    "    \n",
    "    nx.draw(G,pos,with_labels=False, node_color=colors, edge_color=\"gray\", node_size=2000, font_size=10)\n",
    "    # Prepara las etiquetas con atributos de cada nodo\n",
    "    labels = {node: f\"n:{node}\\np:{G.nodes[node].get('profundidad', '')}\" for node in G.nodes}\n",
    "    \n",
    "    # Dibuja las etiquetas de los nodos con sus atributos\n",
    "    nx.draw_networkx_labels(G, pos, labels, font_size=15, font_color=\"white\")\n",
    "    \n",
    "    plt.margins(0.2)\n",
    "    plt.show()"
   ],
   "metadata": {
    "collapsed": false,
    "ExecuteTime": {
     "end_time": "2024-11-15T12:35:57.644413200Z",
     "start_time": "2024-11-15T12:35:57.582070900Z"
    }
   },
   "id": "2c238cd4b8c807c1"
  },
  {
   "cell_type": "code",
   "execution_count": 59,
   "outputs": [],
   "source": [
    "def dibujar_arbol(grafo, nodo_raiz=1):\n",
    "    # Asegurarse de que el grafo sea dirigido\n",
    "    if not nx.is_directed(grafo):\n",
    "        raise ValueError(\"El grafo debe ser dirigido.\")\n",
    "    \n",
    "    # Calcular la distancia desde el nodo raíz a todos los demás nodos\n",
    "    distancias = nx.single_source_shortest_path_length(grafo, nodo_raiz)\n",
    "    \n",
    "    # Crear la estructura de posiciones de nodos\n",
    "    pos = {nodo_raiz: (0, 0)}  # Posición inicial del nodo raíz en el centro\n",
    "    nivel_offset = 1.5  # Espaciado inicial en el eje x para los hijos de cada nodo\n",
    "    procesados = {nodo_raiz}  # Conjunto para marcar nodos ya procesados\n",
    "    \n",
    "    def asignar_posiciones(nodo, profundidad, offset_x):\n",
    "        \"\"\" Función recursiva para asignar posiciones a los nodos \"\"\"\n",
    "        hijos = list(grafo.successors(nodo))\n",
    "        num_hijos = len(hijos)\n",
    "        \n",
    "        if num_hijos == 0:\n",
    "            return  # Si no tiene hijos, termina la recursión\n",
    "        \n",
    "        # Calcular el espaciado para los hijos basado en el nivel de profundidad\n",
    "        espacio_hijos = offset_x / max(1, num_hijos - 1)  # Reduce el offset en cada nivel\n",
    "        \n",
    "        for i, hijo in enumerate(hijos):\n",
    "            # Asigna posición al hijo basado en su índice\n",
    "            pos[hijo] = (\n",
    "                pos[nodo][0] + (i - (num_hijos - 1) / 2) * espacio_hijos,  # x\n",
    "                pos[nodo][1] - 0.5  # y, bajamos en el eje vertical para el nivel\n",
    "            )\n",
    "            procesados.add(hijo)\n",
    "            # Llamada recursiva para colocar los descendientes del hijo\n",
    "            asignar_posiciones(hijo, profundidad + 1, offset_x / 2)\n",
    "    \n",
    "    # Iniciar la colocación de nodos desde la raíz\n",
    "    asignar_posiciones(nodo_raiz, 0, nivel_offset * len(distancias))\n",
    "    \n",
    "    # Dibujar el grafo usando las posiciones calculadas\n",
    "    plt.figure(figsize=(10, 10,))\n",
    "    nx.draw(grafo, pos=pos, with_labels=True, node_size=500, node_color='lightblue', font_size=10, font_weight='bold', arrows=True)\n",
    "    \n",
    "    # Mostrar el gráfico\n",
    "    plt.title(f'Árbol generado a partir del grafo dirigido (Raíz: Nodo {nodo_raiz})')\n",
    "    plt.show()\n"
   ],
   "metadata": {
    "collapsed": false,
    "ExecuteTime": {
     "end_time": "2024-11-15T12:35:57.644413200Z",
     "start_time": "2024-11-15T12:35:57.606030300Z"
    }
   },
   "id": "370b55b4ff083b97"
  },
  {
   "cell_type": "code",
   "execution_count": 60,
   "outputs": [],
   "source": [
    "import random\n",
    "\n",
    "def formar_particion_estado(n):\n",
    "    lista_hojas = []\n",
    "        \n",
    "    G = nx.DiGraph()\n",
    "    G.add_node(1, profundidad = 0)\n",
    "    G.graph['altura'] = 0\n",
    "    \n",
    "    lista_hojas.append(1)\n",
    "    nodos=1\n",
    "    \n",
    "    for i in range(1,n+1):\n",
    "        selec = random.choice(lista_hojas)\n",
    "        #print(\"Nodo seleccionado: \"+str(selec))\n",
    "        profundidad = nx.shortest_path_length(G, source=1,target=selec)+1\n",
    "        \n",
    "        if profundidad > G.graph['altura']:\n",
    "            G.graph['altura'] = profundidad\n",
    "            \n",
    "        G.add_node(nodos+1,profundidad=profundidad)\n",
    "        G.add_node(nodos+2,profundidad=profundidad)\n",
    "        G.add_edges_from([(selec,nodos+1),(selec,nodos+2)])\n",
    "        #print(\"Añadidos hijos \"+str(nodos+1)+\" y \"+str(nodos+2))\n",
    "        lista_hojas.append(nodos+1)\n",
    "        lista_hojas.append(nodos+2)\n",
    "        lista_hojas.remove(selec)\n",
    "        nodos+=2\n",
    "    \n",
    "    return G"
   ],
   "metadata": {
    "collapsed": false,
    "ExecuteTime": {
     "end_time": "2024-11-15T12:35:57.644413200Z",
     "start_time": "2024-11-15T12:35:57.612693700Z"
    }
   },
   "id": "193c4a021d7b1499"
  },
  {
   "cell_type": "code",
   "execution_count": 92,
   "outputs": [],
   "source": [
    "import random\n",
    "\n",
    "def formar_particion_estado_4(n):\n",
    "    lista_hojas = []\n",
    "        \n",
    "    G = nx.DiGraph()\n",
    "    G.add_node(1, profundidad=0)\n",
    "    G.graph['altura'] = 0\n",
    "    \n",
    "    lista_hojas.append(1)\n",
    "    nodos=1\n",
    "    \n",
    "    for i in range(1,n+1):\n",
    "        selec = random.choice(lista_hojas)\n",
    "        #print(\"Nodo seleccionado: \"+str(selec))\n",
    "        profundidad = nx.shortest_path_length(G, source=1,target=selec)+1\n",
    "        \n",
    "        if profundidad == 5:\n",
    "            continue\n",
    "            \n",
    "        if profundidad > G.graph['altura']:\n",
    "            G.graph['altura'] = profundidad\n",
    "        \n",
    "        G.add_node(nodos+1,profundidad=profundidad)\n",
    "        G.add_node(nodos+2,profundidad=profundidad)\n",
    "        G.add_node(nodos+3,profundidad=profundidad)\n",
    "        G.add_node(nodos+4,profundidad=profundidad)\n",
    "        G.add_edges_from([(selec,nodos+1),(selec,nodos+2),(selec,nodos+3),(selec,nodos+4)])\n",
    "        #print(\"Añadidos hijos \"+str(nodos+1)+\" y \"+str(nodos+2))\n",
    "        lista_hojas.append(nodos+1)\n",
    "        lista_hojas.append(nodos+2)\n",
    "        lista_hojas.append(nodos+3)\n",
    "        lista_hojas.append(nodos+4)\n",
    "        lista_hojas.remove(selec)\n",
    "        nodos+=4\n",
    "    \n",
    "    return G"
   ],
   "metadata": {
    "collapsed": false,
    "ExecuteTime": {
     "end_time": "2024-11-15T13:01:58.230080700Z",
     "start_time": "2024-11-15T13:01:58.230080700Z"
    }
   },
   "id": "e9289a95c9588801"
  },
  {
   "cell_type": "code",
   "execution_count": 62,
   "outputs": [],
   "source": [
    "def describir_arbol(G):\n",
    "    nodes = list(G.nodes)\n",
    "    string = describir_arbol_aux(nodes[0],G,0)\n",
    "    print(string)\n",
    "    \n",
    "def describir_arbol_aux(nodo, G, profundidad):\n",
    "    hijos = list(G.successors(nodo))\n",
    "    resultado = \"\\t\"*profundidad+f\"Nodo: {nodo} | Profundidad: {G.nodes[nodo]['profundidad']}\\n\"\n",
    "    if hijos != []:\n",
    "        for hijo in hijos:\n",
    "            resultado+=describir_arbol_aux(hijo,G,profundidad+1)\n",
    "    return resultado"
   ],
   "metadata": {
    "collapsed": false,
    "ExecuteTime": {
     "end_time": "2024-11-15T12:35:57.660439100Z",
     "start_time": "2024-11-15T12:35:57.644413200Z"
    }
   },
   "id": "6b5dcec511c4c786"
  },
  {
   "cell_type": "code",
   "execution_count": 63,
   "outputs": [
    {
     "name": "stdout",
     "output_type": "stream",
     "text": [
      "Nodo: 1 | Profundidad: 0\n",
      "\tNodo: 2 | Profundidad: 1\n",
      "\tNodo: 3 | Profundidad: 1\n",
      "\t\tNodo: 14 | Profundidad: 2\n",
      "\t\tNodo: 15 | Profundidad: 2\n",
      "\t\tNodo: 16 | Profundidad: 2\n",
      "\t\tNodo: 17 | Profundidad: 2\n",
      "\tNodo: 4 | Profundidad: 1\n",
      "\t\tNodo: 6 | Profundidad: 2\n",
      "\t\tNodo: 7 | Profundidad: 2\n",
      "\t\tNodo: 8 | Profundidad: 2\n",
      "\t\t\tNodo: 10 | Profundidad: 3\n",
      "\t\t\tNodo: 11 | Profundidad: 3\n",
      "\t\t\tNodo: 12 | Profundidad: 3\n",
      "\t\t\tNodo: 13 | Profundidad: 3\n",
      "\t\tNodo: 9 | Profundidad: 2\n",
      "\tNodo: 5 | Profundidad: 1\n"
     ]
    }
   ],
   "source": [
    "G=(formar_particion_estado_4(4))\n",
    "describir_arbol(G)"
   ],
   "metadata": {
    "collapsed": false,
    "ExecuteTime": {
     "end_time": "2024-11-15T12:35:57.676099200Z",
     "start_time": "2024-11-15T12:35:57.660439100Z"
    }
   },
   "id": "735b7a0405b3fb85"
  },
  {
   "cell_type": "code",
   "execution_count": 64,
   "outputs": [
    {
     "data": {
      "text/plain": "3"
     },
     "execution_count": 64,
     "metadata": {},
     "output_type": "execute_result"
    }
   ],
   "source": [
    "G.graph['altura']"
   ],
   "metadata": {
    "collapsed": false,
    "ExecuteTime": {
     "end_time": "2024-11-15T12:35:57.755010200Z",
     "start_time": "2024-11-15T12:35:57.676099200Z"
    }
   },
   "id": "c4c82057dac8f2d1"
  },
  {
   "cell_type": "code",
   "execution_count": 65,
   "outputs": [],
   "source": [
    "def mostrar_cuadrado(cuadrado):\n",
    "    x, y = cuadrado.centro  # Centro del cuadrado\n",
    "    size = cuadrado.tamaño  # Tamaño del lado del cuadrado (puedes ajustar esto)\n",
    "\n",
    "    fig, ax = plt.subplots()\n",
    "    # Dibujar el cuadrado centrado en (x, y)\n",
    "    ax.add_patch(plt.Rectangle((x - size / 2, y - size / 2), size, size, fill=True, color='blue'))\n",
    "\n",
    "    # Ajustar los límites para que muestren solo el cuadrado\n",
    "    ax.set_xlim(x - size, x + size)\n",
    "    ax.set_ylim(y - size, y + size)\n",
    "\n",
    "    ax.set_aspect('equal')\n",
    "    # Ocultar ejes y bordes\n",
    "    ax.axis('off')\n",
    "\n",
    "    # Mostrar solo el cuadrado\n",
    "    plt.show()"
   ],
   "metadata": {
    "collapsed": false,
    "ExecuteTime": {
     "end_time": "2024-11-15T12:35:57.755010200Z",
     "start_time": "2024-11-15T12:35:57.691728900Z"
    }
   },
   "id": "7d08c0fca3cbf53b"
  },
  {
   "cell_type": "code",
   "execution_count": 96,
   "outputs": [],
   "source": [
    "import matplotlib.patches as patches\n",
    "\n",
    "class Cuadrado():\n",
    "    def __init__(self, G, nodo=1, centro=(0, 0), tamaño=10):\n",
    "        tipos = [\"suelo\", \"pared\"]\n",
    "        self.nodo = nodo\n",
    "        self.centro = centro\n",
    "        self.tamaño = tamaño\n",
    "        self.tipo = random.choice(tipos)\n",
    "\n",
    "        self.profundidad = G.graph['altura']\n",
    "\n",
    "        self.cuadrantes = []\n",
    "\n",
    "        self.hijos = []\n",
    "\n",
    "        hijos = list(G.successors(nodo))\n",
    "\n",
    "        if hijos:\n",
    "            # Se divide por cuatro porque tiene la mitad de tamaño, y después se divide a la mitad otra vez para determinar el centro.\n",
    "            mitad_tamaño = self.tamaño / 2\n",
    "            centro_cuadrante = mitad_tamaño / 2\n",
    "            offsets = [\n",
    "                (-centro_cuadrante, centro_cuadrante),  # Cuadrante arriba izquierda\n",
    "                (centro_cuadrante, centro_cuadrante),  # Cuadrante arriba derecha\n",
    "                (-centro_cuadrante, -centro_cuadrante),  # Cuadrante abajo izquierda\n",
    "                (centro_cuadrante, -centro_cuadrante)  # Cuadrante abajo derecha\n",
    "            ]\n",
    "\n",
    "            for hijo, offset in zip(hijos, offsets):\n",
    "                nuevo_centro = (self.centro[0] + offset[0], self.centro[1] + offset[1])\n",
    "                self.cuadrantes.append(Cuadrado(G, hijo, nuevo_centro, mitad_tamaño))\n",
    "\n",
    "    def __str__(self):\n",
    "        \"\"\"\n",
    "        Representación en texto del cuadrado.\n",
    "        \"\"\"\n",
    "        return f\"Cuadrado(nodo={self.nodo},tamaño={self.tamaño},tipo={self.tipo})\"\n",
    "\n",
    "    def imprimir_estructura(self, nivel=0):\n",
    "        \"\"\"\n",
    "        Imprime la estructura jerárquica del cuadrado.\n",
    "        \"\"\"\n",
    "        print(\" \" * nivel * 4 + str(self))\n",
    "        for cuadrante in self.cuadrantes:\n",
    "            cuadrante.imprimir_estructura(nivel + 1)\n",
    "\n",
    "    def dibujar(self, ax):\n",
    "        # Dibuja el cuadrado actual\n",
    "        x, y = self.centro\n",
    "        tamaño = self.tamaño\n",
    "        if self.tipo == 'pared':\n",
    "            rect = patches.Rectangle(\n",
    "                (x - tamaño / 2, y - tamaño / 2), tamaño, tamaño,\n",
    "                linewidth=1, edgecolor='none', facecolor='black'\n",
    "            )\n",
    "            ax.add_patch(rect)\n",
    "        elif self.tipo == 'suelo':\n",
    "            rect = patches.Rectangle(\n",
    "                (x - tamaño / 2, y - tamaño / 2), tamaño, tamaño,\n",
    "                linewidth=1, edgecolor='none', facecolor='white'\n",
    "            )\n",
    "            ax.add_patch(rect)\n",
    "\n",
    "        # Dibujar los hijos\n",
    "        for cuadrante in self.cuadrantes:\n",
    "            cuadrante.dibujar(ax)"
   ],
   "metadata": {
    "collapsed": false,
    "ExecuteTime": {
     "end_time": "2024-11-15T13:05:03.695198500Z",
     "start_time": "2024-11-15T13:05:03.669189500Z"
    }
   },
   "id": "6351520646019f4e"
  },
  {
   "cell_type": "code",
   "execution_count": 101,
   "outputs": [
    {
     "data": {
      "text/plain": "<Figure size 800x800 with 1 Axes>",
      "image/png": "[encoded data removed]"
     },
     "metadata": {
      "needs_background": "light"
     },
     "output_type": "display_data"
    }
   ],
   "source": [
    "G = formar_particion_estado_4(100)\n",
    "cuadrado = Cuadrado(G)\n",
    "\n",
    "#cuadrado.imprimir_estructura()\n",
    "#print(cuadrado.profundidad)\n",
    "fig, ax = plt.subplots(figsize=(8, 8))\n",
    "ax.set_xlim(-10, 10)\n",
    "ax.set_ylim(-10, 10)\n",
    "ax.set_aspect('equal')\n",
    "ax.axis('off')\n",
    "\n",
    "# Configuración del fondo transparente\n",
    "fig.patch.set_alpha(0)  # Fondo de la figura transparente\n",
    "ax.patch.set_alpha(0)   # Fondo del eje transparente\n",
    "\n",
    "cuadrado.dibujar(ax)\n",
    "\n",
    "plt.show()"
   ],
   "metadata": {
    "collapsed": false,
    "ExecuteTime": {
     "end_time": "2024-11-15T13:05:32.216071300Z",
     "start_time": "2024-11-15T13:05:32.039768200Z"
    }
   },
   "id": "ddab1c39e5f6f42d"
  }
 ],
 "metadata": {
  "kernelspec": {
   "display_name": "Python 3",
   "language": "python",
   "name": "python3"
  },
  "language_info": {
   "codemirror_mode": {
    "name": "ipython",
    "version": 2
   },
   "file_extension": ".py",
   "mimetype": "text/x-python",
   "name": "python",
   "nbconvert_exporter": "python",
   "pygments_lexer": "ipython2",
   "version": "2.7.6"
  }
 },
 "nbformat": 4,
 "nbformat_minor": 5
}
