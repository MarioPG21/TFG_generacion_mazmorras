{
 "cells": [
  {
   "cell_type": "code",
   "execution_count": 2,
   "id": "initial_id",
   "metadata": {
    "collapsed": true,
    "ExecuteTime": {
     "end_time": "2024-11-30T16:26:02.505699600Z",
     "start_time": "2024-11-30T16:26:01.199020800Z"
    }
   },
   "outputs": [],
   "source": [
    "import networkx as nx\n",
    "import matplotlib.pyplot as plt"
   ]
  },
  {
   "cell_type": "code",
   "execution_count": 3,
   "outputs": [],
   "source": [
    "import matplotlib.cm as cm  # Para usar una paleta de colores continua\n",
    "from networkx.drawing.nx_agraph import graphviz_layout\n",
    "\n",
    "def mostrar_grafo(G):\n",
    "    plt.figure(figsize=(10,10))\n",
    "    #pos = nx.spring_layout(G,k=1)\n",
    "    #pos=nx.circular_layout(G)\n",
    "    #pos=nx.shell_layout(G)\n",
    "    #pos=nx.random_layout(G)\n",
    "    #pos = graphviz_layout(G, prog='dot')\n",
    "    #pos=nx.spectral_layout(G)\n",
    "    #pos=nx.spiral_layout(G)\n",
    "    \n",
    "    pos = nx.spring_layout(G)\n",
    "    #pos = nx.kamada_kawai_layout(G)\n",
    "    \n",
    "    # Obtener todos los valores de profundidad para ajustar el rango de colores\n",
    "    profundidades = [G.nodes[node].get('profundidad', 0) for node in G.nodes]\n",
    "    \n",
    "    # Normalizar las profundidades para asignar colores continuos en una escala\n",
    "    min_prof, max_prof = min(profundidades), max(profundidades)\n",
    "    colors = [\n",
    "        cm.viridis((prof - min_prof) / (max_prof - min_prof)) if max_prof > min_prof else cm.viridis(0.5)\n",
    "        for prof in profundidades\n",
    "    ]\n",
    "    \n",
    "    nx.draw(G,pos,with_labels=False, node_color=colors, edge_color=\"gray\", node_size=2000, font_size=10)\n",
    "    # Prepara las etiquetas con atributos de cada nodo\n",
    "    labels = {node: f\"n:{node}\\np:{G.nodes[node].get('profundidad', '')}\" for node in G.nodes}\n",
    "    \n",
    "    # Dibuja las etiquetas de los nodos con sus atributos\n",
    "    nx.draw_networkx_labels(G, pos, labels, font_size=15, font_color=\"white\")\n",
    "    \n",
    "    plt.margins(0.2)\n",
    "    plt.show()"
   ],
   "metadata": {
    "collapsed": false,
    "ExecuteTime": {
     "end_time": "2024-11-30T16:26:02.523052100Z",
     "start_time": "2024-11-30T16:26:02.505699600Z"
    }
   },
   "id": "2c238cd4b8c807c1"
  },
  {
   "cell_type": "code",
   "execution_count": 4,
   "outputs": [],
   "source": [
    "def dibujar_arbol(grafo, nodo_raiz=1):\n",
    "    # Asegurarse de que el grafo sea dirigido\n",
    "    if not nx.is_directed(grafo):\n",
    "        raise ValueError(\"El grafo debe ser dirigido.\")\n",
    "    \n",
    "    # Calcular la distancia desde el nodo raíz a todos los demás nodos\n",
    "    distancias = nx.single_source_shortest_path_length(grafo, nodo_raiz)\n",
    "    \n",
    "    # Crear la estructura de posiciones de nodos\n",
    "    pos = {nodo_raiz: (0, 0)}  # Posición inicial del nodo raíz en el centro\n",
    "    nivel_offset = 1.5  # Espaciado inicial en el eje x para los hijos de cada nodo\n",
    "    procesados = {nodo_raiz}  # Conjunto para marcar nodos ya procesados\n",
    "    \n",
    "    def asignar_posiciones(nodo, profundidad, offset_x):\n",
    "        \"\"\" Función recursiva para asignar posiciones a los nodos \"\"\"\n",
    "        hijos = list(grafo.successors(nodo))\n",
    "        num_hijos = len(hijos)\n",
    "        \n",
    "        if num_hijos == 0:\n",
    "            return  # Si no tiene hijos, termina la recursión\n",
    "        \n",
    "        # Calcular el espaciado para los hijos basado en el nivel de profundidad\n",
    "        espacio_hijos = offset_x / max(1, num_hijos - 1)  # Reduce el offset en cada nivel\n",
    "        \n",
    "        for i, hijo in enumerate(hijos):\n",
    "            # Asigna posición al hijo basado en su índice\n",
    "            pos[hijo] = (\n",
    "                pos[nodo][0] + (i - (num_hijos - 1) / 2) * espacio_hijos,  # x\n",
    "                pos[nodo][1] - 0.5  # y, bajamos en el eje vertical para el nivel\n",
    "            )\n",
    "            procesados.add(hijo)\n",
    "            # Llamada recursiva para colocar los descendientes del hijo\n",
    "            asignar_posiciones(hijo, profundidad + 1, offset_x / 2)\n",
    "    \n",
    "    # Iniciar la colocación de nodos desde la raíz\n",
    "    asignar_posiciones(nodo_raiz, 0, nivel_offset * len(distancias))\n",
    "    \n",
    "    # Dibujar el grafo usando las posiciones calculadas\n",
    "    plt.figure(figsize=(10, 10,))\n",
    "    nx.draw(grafo, pos=pos, with_labels=True, node_size=500, node_color='lightblue', font_size=10, font_weight='bold', arrows=True)\n",
    "    \n",
    "    # Mostrar el gráfico\n",
    "    plt.title(f'Árbol generado a partir del grafo dirigido (Raíz: Nodo {nodo_raiz})')\n",
    "    plt.show()"
   ],
   "metadata": {
    "collapsed": false,
    "ExecuteTime": {
     "end_time": "2024-11-30T16:26:02.554934800Z",
     "start_time": "2024-11-30T16:26:02.531569Z"
    }
   },
   "id": "370b55b4ff083b97"
  },
  {
   "cell_type": "code",
   "execution_count": 5,
   "outputs": [],
   "source": [
    "def describir_arbol(G):\n",
    "    nodes = list(G.nodes)\n",
    "    string = describir_arbol_aux(nodes[0],G,0)\n",
    "    print(string)\n",
    "    \n",
    "def describir_arbol_aux(nodo, G, profundidad):\n",
    "    hijos = list(G.successors(nodo))\n",
    "    resultado = \"\\t\"*profundidad+f\"Nodo: {nodo} | Profundidad: {G.nodes[nodo]['profundidad']}\\n\"\n",
    "    if hijos != []:\n",
    "        for hijo in hijos:\n",
    "            resultado+=describir_arbol_aux(hijo,G,profundidad+1)\n",
    "    return resultado"
   ],
   "metadata": {
    "collapsed": false,
    "ExecuteTime": {
     "end_time": "2024-11-30T16:26:02.554934800Z",
     "start_time": "2024-11-30T16:26:02.546659800Z"
    }
   },
   "id": "6b5dcec511c4c786"
  },
  {
   "cell_type": "code",
   "execution_count": 6,
   "outputs": [],
   "source": [
    "def hojas_preorden(G):\n",
    "    hojas = {n for n, out_d in G.out_degree() if out_d == 0}\n",
    "    recorrido_preorden = list(nx.dfs_preorder_nodes(G, source=1))\n",
    "    lista_hojas = [nodo for nodo in recorrido_preorden if nodo in hojas]\n",
    "    return lista_hojas"
   ],
   "metadata": {
    "collapsed": false,
    "ExecuteTime": {
     "end_time": "2024-11-30T16:26:02.571695600Z",
     "start_time": "2024-11-30T16:26:02.561195100Z"
    }
   },
   "id": "5bb5c391bdcf599a"
  },
  {
   "cell_type": "markdown",
   "source": [
    "#### Creación del grafo simultánea.\n",
    "Al crear el grafo simultáneamente, se aprovecha la estructura del árbol para formarlo. Cada vez que el algoritmo de space partitioning selecciona un nodo y crea sus hijos en el árbol, se crean en esa misma iteración del bucle las conexiones de los nuevos nodos entre sí. Una vez esas conexiones están creadas, se conectan los nuevos nodos con las capas superiores:\n",
    "> Si su padre tuvo hermanos('contiguos' != []), se conectan los hijos adyacentes a los hermanos con estos últimos, añadiendo también esta conexión al parámetro contiguos para conexiones más complejas en las que la diferencia de profundidad sea mayor que 1.\n",
    "Problema: No se puede limitar la conexión de los hijos de diferentes nodos en el mismo nivel. Al ser \"heredado\" el atributo 'contiguos', se hereda la conexión con ambos nodos de abajo, cuando los nodos hijo estarían conectados con un solo nodo cada uno."
   ],
   "metadata": {
    "collapsed": false
   },
   "id": "15d9ee06900e5a49"
  },
  {
   "cell_type": "code",
   "execution_count": 7,
   "outputs": [],
   "source": [
    "import random\n",
    "\n",
    "def formar_particion_estado_4(n):\n",
    "    lista_hojas = []\n",
    "        \n",
    "    A = nx.DiGraph()\n",
    "    A.add_node(1, profundidad=0)\n",
    "    A.graph['altura'] = 0\n",
    "    \n",
    "    lista_hojas.append(1)\n",
    "    nodos=1\n",
    "    \n",
    "    for i in range(1,n+1):\n",
    "        selec = random.choice(lista_hojas)\n",
    "        profundidad = nx.shortest_path_length(A, source=1,target=selec)+1\n",
    "        \n",
    "        if profundidad == 5:\n",
    "            continue\n",
    "            \n",
    "        if profundidad > A.graph['altura']:\n",
    "            A.graph['altura'] = profundidad\n",
    "        \n",
    "        A.add_node(nodos+1,profundidad=profundidad)\n",
    "        A.add_node(nodos+2,profundidad=profundidad)\n",
    "        A.add_node(nodos+3,profundidad=profundidad)\n",
    "        A.add_node(nodos+4,profundidad=profundidad)\n",
    "        A.add_edges_from([(selec,nodos+1),(selec,nodos+2),(selec,nodos+3),(selec,nodos+4)])\n",
    "        #print(\"Añadidos hijos \"+str(nodos+1)+\" y \"+str(nodos+2))\n",
    "        lista_hojas.append(nodos+1)\n",
    "        lista_hojas.append(nodos+2)\n",
    "        lista_hojas.append(nodos+3)\n",
    "        lista_hojas.append(nodos+4)\n",
    "        lista_hojas.remove(selec)\n",
    "        \n",
    "        nodos+=4\n",
    "    return A"
   ],
   "metadata": {
    "collapsed": false,
    "ExecuteTime": {
     "end_time": "2024-11-30T16:26:02.579697200Z",
     "start_time": "2024-11-30T16:26:02.571695600Z"
    }
   },
   "id": "e9289a95c9588801"
  },
  {
   "cell_type": "code",
   "execution_count": 8,
   "outputs": [],
   "source": [
    "A = formar_particion_estado_4(2)"
   ],
   "metadata": {
    "collapsed": false,
    "ExecuteTime": {
     "end_time": "2024-11-30T16:26:02.612582200Z",
     "start_time": "2024-11-30T16:26:02.579697200Z"
    }
   },
   "id": "31b53c299aaecac3"
  },
  {
   "cell_type": "code",
   "execution_count": 9,
   "outputs": [
    {
     "name": "stdout",
     "output_type": "stream",
     "text": [
      "Nodo: 1 | Profundidad: 0\n",
      "\tNodo: 2 | Profundidad: 1\n",
      "\tNodo: 3 | Profundidad: 1\n",
      "\t\tNodo: 6 | Profundidad: 2\n",
      "\t\tNodo: 7 | Profundidad: 2\n",
      "\t\tNodo: 8 | Profundidad: 2\n",
      "\t\tNodo: 9 | Profundidad: 2\n",
      "\tNodo: 4 | Profundidad: 1\n",
      "\tNodo: 5 | Profundidad: 1\n"
     ]
    }
   ],
   "source": [
    "describir_arbol(A)\n"
   ],
   "metadata": {
    "collapsed": false,
    "ExecuteTime": {
     "end_time": "2024-11-30T16:26:02.615829500Z",
     "start_time": "2024-11-30T16:26:02.588097800Z"
    }
   },
   "id": "bb2ee9d06bbdca15"
  },
  {
   "cell_type": "code",
   "execution_count": 159,
   "outputs": [],
   "source": [
    "import matplotlib.patches as patches\n",
    "\n",
    "class Cuadrado():\n",
    "    def __init__(self, G, nodo=1, centro=(0, 0), tamaño=10):\n",
    "        self.G=G\n",
    "        self.S = nx.Graph()\n",
    "        \n",
    "        tipos = ['suelo','suelo','pared']\n",
    "        self.nodo = nodo\n",
    "        self.centro = centro\n",
    "        self.tamaño = tamaño\n",
    "        self.tipo = random.choice(tipos)\n",
    "        \n",
    "\n",
    "        self.profundidad = self.G.graph['altura']\n",
    "        \n",
    "        # limites = [arriba,derecha,abajo,izquierda]\n",
    "        offset = self.tamaño/2\n",
    "        self.limites = [\n",
    "            self.centro[1]+offset,\n",
    "            self.centro[0]+offset,\n",
    "            self.centro[1]-offset,\n",
    "            self.centro[0]-offset\n",
    "        ]\n",
    "\n",
    "        self.cuadrantes = []\n",
    "        self.hijos = []\n",
    "\n",
    "        hijos = list(self.G.successors(nodo))\n",
    "\n",
    "        if hijos:\n",
    "            # Se divide por cuatro porque tiene la mitad de tamaño, y después se divide a la mitad otra vez para determinar el centro.\n",
    "            mitad_tamaño = self.tamaño / 2\n",
    "            centro_cuadrante = mitad_tamaño / 2\n",
    "            offsets = [\n",
    "                (-centro_cuadrante, centro_cuadrante),  # Cuadrante arriba izquierda\n",
    "                (centro_cuadrante, centro_cuadrante),  # Cuadrante arriba derecha\n",
    "                (-centro_cuadrante, -centro_cuadrante),  # Cuadrante abajo izquierda\n",
    "                (centro_cuadrante, -centro_cuadrante)  # Cuadrante abajo derecha\n",
    "            ]\n",
    "\n",
    "            for hijo, offset in zip(hijos, offsets):\n",
    "                nuevo_centro = (self.centro[0] + offset[0], self.centro[1] + offset[1])\n",
    "                self.cuadrantes.append(Cuadrado(self.G, hijo, nuevo_centro, mitad_tamaño))\n",
    "            \n",
    "\n",
    "    def formar_grafo(self,lista_hojas):\n",
    "        while lista_hojas:\n",
    "            print(lista_hojas)\n",
    "            i = lista_hojas[0]\n",
    "            yo = self.encontrar_cuadrante(i)\n",
    "            print(f\"Hoja {yo.nodo}\")\n",
    "            lista_hojas.remove(i)\n",
    "            for j in lista_hojas:\n",
    "                tu = self.encontrar_cuadrante(j)\n",
    "                print(f\"\\tHoja {tu.nodo}\")\n",
    "                \n",
    "                # Conexión hacia arriba\n",
    "                if tu.limites[2] == yo.limites[0]:\n",
    "                    print(\"\\tLimites superior e inferior coinciden.\")\n",
    "                    if yo.limites[1] >= tu.limites[1] > yo.limites[3]:\n",
    "                        self.S.add_edge(tu.nodo,yo.nodo)\n",
    "                        print(f\"\\tConecta con {tu.nodo}\")\n",
    "                \n",
    "                # Conexión hacia la derecha\n",
    "                if tu.limites[3] == yo.limites[1]:\n",
    "                    print(\"\\tLimites derecha e izquierda coinciden.\")\n",
    "                    if yo.limites[0] >= tu.limites[0] > yo.limites[2]:\n",
    "                        self.S.add_edge(tu.nodo,yo.nodo)\n",
    "                        print(f\"\\tConecta con {tu.nodo}\")\n",
    "                        \n",
    "                # Conexión hacia abajo\n",
    "                if tu.limites[0] == yo.limites[2]:\n",
    "                    print(\"\\tLimites superior e inferior coinciden.\")\n",
    "                    if yo.limites[1] >= tu.limites[1] > yo.limites[3]:\n",
    "                        self.S.add_edge(tu.nodo,yo.nodo)\n",
    "                        print(f\"\\tConecta con {tu.nodo}\")\n",
    "                        \n",
    "                # Conexión hacia la izquierda\n",
    "                if tu.limites[1] == yo.limites[3]:\n",
    "                    print(\"\\tLimites derecha e izquierda coinciden.\")\n",
    "                    if yo.limites[0] >= tu.limites[0] > yo.limites[2]:\n",
    "                        self.S.add_edge(tu.nodo,yo.nodo)\n",
    "                        print(f\"\\tConecta con {tu.nodo}\")\n",
    "                \n",
    "    def encontrar_cuadrante(self, id):\n",
    "        \"\"\"\n",
    "        Busca el cuadrante que contiene el nodo con el ID especificado.\n",
    "        Imprime un mensaje si no lo encuentra y detiene la búsqueda.\n",
    "        \"\"\"\n",
    "        if self.nodo == id:\n",
    "            #print(f\"Nodo encontrado: {self.nodo}\")\n",
    "            return self\n",
    "    \n",
    "        for cuadrante in self.cuadrantes:\n",
    "            resultado = cuadrante.encontrar_cuadrante(id)\n",
    "            if resultado:\n",
    "                return resultado\n",
    "    \n",
    "\n",
    "    \n",
    "\n",
    "    \n",
    "    def hojas_preorden(self):\n",
    "        hojas = {n for n, out_d in self.G.out_degree() if out_d == 0}\n",
    "        recorrido_preorden = list(nx.dfs_preorder_nodes(G, source=1))\n",
    "        return [nodo for nodo in recorrido_preorden if nodo in hojas]\n",
    "\n",
    "    def __str__(self):\n",
    "        \"\"\"\n",
    "        Representación en texto del cuadrado.\n",
    "        \"\"\"\n",
    "        return f\"Cuadrado(nodo={self.nodo},tipo={self.tipo},límites={self.limites})\"\n",
    "\n",
    "    def imprimir_estructura(self, nivel=0):\n",
    "        \"\"\"\n",
    "        Imprime la estructura jerárquica del cuadrado.\n",
    "        \"\"\"\n",
    "        print(\" \" * nivel * 4 + str(self))\n",
    "        for cuadrante in self.cuadrantes:\n",
    "            cuadrante.imprimir_estructura(nivel + 1)\n",
    "    \n",
    "    def dibujar(self, ax):\n",
    "        # Dibuja el cuadrado actual\n",
    "        x, y = self.centro\n",
    "        tamaño = self.tamaño\n",
    "        if self.tipo == 'pared':\n",
    "            rect = patches.Rectangle(\n",
    "                (x - tamaño / 2, y - tamaño / 2), tamaño, tamaño,\n",
    "                linewidth=1, edgecolor='grey', facecolor='black'\n",
    "            )\n",
    "            ax.add_patch(rect)\n",
    "        elif self.tipo == 'suelo':\n",
    "            rect = patches.Rectangle(\n",
    "                (x - tamaño / 2, y - tamaño / 2), tamaño, tamaño,\n",
    "                linewidth=1, edgecolor='grey', facecolor='white'\n",
    "            )\n",
    "            ax.add_patch(rect)\n",
    "\n",
    "        # Dibujar los hijos\n",
    "        for cuadrante in self.cuadrantes:\n",
    "            cuadrante.dibujar(ax)"
   ],
   "metadata": {
    "collapsed": false,
    "ExecuteTime": {
     "end_time": "2024-11-30T18:15:15.482571100Z",
     "start_time": "2024-11-30T18:15:15.463751300Z"
    }
   },
   "id": "6351520646019f4e"
  },
  {
   "cell_type": "code",
   "execution_count": 160,
   "outputs": [],
   "source": [
    "A = formar_particion_estado_4(2)"
   ],
   "metadata": {
    "collapsed": false,
    "ExecuteTime": {
     "end_time": "2024-11-30T18:15:16.299051100Z",
     "start_time": "2024-11-30T18:15:16.281504100Z"
    }
   },
   "id": "ba67ee4310712365"
  },
  {
   "cell_type": "code",
   "execution_count": 161,
   "outputs": [
    {
     "name": "stdout",
     "output_type": "stream",
     "text": [
      "+---+---+---+---+---+---+---+---+\n",
      "Cuadrado(nodo=1,tipo=suelo,límites=[5.0, 5.0, -5.0, -5.0])\n",
      "    Cuadrado(nodo=2,tipo=pared,límites=[5.0, 0.0, 0.0, -5.0])\n",
      "        Cuadrado(nodo=6,tipo=suelo,límites=[5.0, -2.5, 2.5, -5.0])\n",
      "        Cuadrado(nodo=7,tipo=pared,límites=[5.0, 0.0, 2.5, -2.5])\n",
      "        Cuadrado(nodo=8,tipo=suelo,límites=[2.5, -2.5, 0.0, -5.0])\n",
      "        Cuadrado(nodo=9,tipo=pared,límites=[2.5, 0.0, 0.0, -2.5])\n",
      "    Cuadrado(nodo=3,tipo=suelo,límites=[5.0, 5.0, 0.0, 0.0])\n",
      "    Cuadrado(nodo=4,tipo=suelo,límites=[0.0, 0.0, -5.0, -5.0])\n",
      "    Cuadrado(nodo=5,tipo=suelo,límites=[0.0, 5.0, -5.0, 0.0])\n",
      "+---+---+---+---+---+---+---+---+\n",
      "[6, 7, 8, 9, 3, 4, 5]\n",
      "Hoja 6\n",
      "\tHoja 7\n",
      "\tLimites derecha e izquierda coinciden.\n",
      "\tConecta con 7\n",
      "\tHoja 8\n",
      "\tLimites superior e inferior coinciden.\n",
      "\tConecta con 8\n",
      "\tHoja 9\n",
      "\tLimites derecha e izquierda coinciden.\n",
      "\tLimites superior e inferior coinciden.\n",
      "\tHoja 3\n",
      "\tHoja 4\n",
      "\tHoja 5\n",
      "[7, 8, 9, 3, 4, 5]\n",
      "Hoja 7\n",
      "\tHoja 8\n",
      "\tLimites superior e inferior coinciden.\n",
      "\tLimites derecha e izquierda coinciden.\n",
      "\tHoja 9\n",
      "\tLimites superior e inferior coinciden.\n",
      "\tConecta con 9\n",
      "\tHoja 3\n",
      "\tLimites derecha e izquierda coinciden.\n",
      "\tConecta con 3\n",
      "\tHoja 4\n",
      "\tHoja 5\n",
      "\tLimites derecha e izquierda coinciden.\n",
      "[8, 9, 3, 4, 5]\n",
      "Hoja 8\n",
      "\tHoja 9\n",
      "\tLimites derecha e izquierda coinciden.\n",
      "\tConecta con 9\n",
      "\tHoja 3\n",
      "\tHoja 4\n",
      "\tLimites superior e inferior coinciden.\n",
      "\tHoja 5\n",
      "\tLimites superior e inferior coinciden.\n",
      "[9, 3, 4, 5]\n",
      "Hoja 9\n",
      "\tHoja 3\n",
      "\tLimites derecha e izquierda coinciden.\n",
      "\tHoja 4\n",
      "\tLimites superior e inferior coinciden.\n",
      "\tConecta con 4\n",
      "\tHoja 5\n",
      "\tLimites derecha e izquierda coinciden.\n",
      "\tLimites superior e inferior coinciden.\n",
      "[3, 4, 5]\n",
      "Hoja 3\n",
      "\tHoja 4\n",
      "\tLimites superior e inferior coinciden.\n",
      "\tLimites derecha e izquierda coinciden.\n",
      "\tHoja 5\n",
      "\tLimites superior e inferior coinciden.\n",
      "\tConecta con 5\n",
      "[4, 5]\n",
      "Hoja 4\n",
      "\tHoja 5\n",
      "\tLimites derecha e izquierda coinciden.\n",
      "\tConecta con 5\n",
      "[5]\n",
      "Hoja 5\n"
     ]
    },
    {
     "data": {
      "text/plain": "<Figure size 1000x1000 with 1 Axes>",
      "image/png": "[encoded data removed]"
     },
     "metadata": {},
     "output_type": "display_data"
    }
   ],
   "source": [
    "cuadrado = Cuadrado(A)\n",
    "print(\"+---+---+---+---+---+---+---+---+\")\n",
    "cuadrado.imprimir_estructura()\n",
    "print(\"+---+---+---+---+---+---+---+---+\")\n",
    "cuadrado.formar_grafo(hojas_preorden(cuadrado.G))\n",
    "\n",
    "mostrar_grafo(cuadrado.S)"
   ],
   "metadata": {
    "collapsed": false,
    "ExecuteTime": {
     "end_time": "2024-11-30T18:15:17.518912900Z",
     "start_time": "2024-11-30T18:15:17.407074300Z"
    }
   },
   "id": "3066643ef2a64f99"
  },
  {
   "cell_type": "code",
   "execution_count": 14,
   "outputs": [
    {
     "name": "stdout",
     "output_type": "stream",
     "text": [
      "Cuadrado(nodo=1,tipo=suelo,límites=[5.0, 5.0, -5.0, -5.0])\n",
      "    Cuadrado(nodo=2,tipo=suelo,límites=[5.0, 0.0, 0.0, -5.0])\n",
      "    Cuadrado(nodo=3,tipo=pared,límites=[5.0, 5.0, 0.0, 0.0])\n",
      "        Cuadrado(nodo=10,tipo=pared,límites=[5.0, 2.5, 2.5, 0.0])\n",
      "        Cuadrado(nodo=11,tipo=pared,límites=[5.0, 5.0, 2.5, 2.5])\n",
      "        Cuadrado(nodo=12,tipo=suelo,límites=[2.5, 2.5, 0.0, 0.0])\n",
      "        Cuadrado(nodo=13,tipo=suelo,límites=[2.5, 5.0, 0.0, 2.5])\n",
      "    Cuadrado(nodo=4,tipo=pared,límites=[0.0, 0.0, -5.0, -5.0])\n",
      "        Cuadrado(nodo=6,tipo=pared,límites=[0.0, -2.5, -2.5, -5.0])\n",
      "        Cuadrado(nodo=7,tipo=pared,límites=[0.0, 0.0, -2.5, -2.5])\n",
      "        Cuadrado(nodo=8,tipo=pared,límites=[-2.5, -2.5, -5.0, -5.0])\n",
      "        Cuadrado(nodo=9,tipo=suelo,límites=[-2.5, 0.0, -5.0, -2.5])\n",
      "    Cuadrado(nodo=5,tipo=pared,límites=[0.0, 5.0, -5.0, 0.0])\n"
     ]
    }
   ],
   "source": [
    "G = formar_particion_estado_4(3)\n",
    "\n",
    "cuadrado = Cuadrado(G)\n",
    "cuadrado.imprimir_estructura()\n"
   ],
   "metadata": {
    "collapsed": false,
    "ExecuteTime": {
     "end_time": "2024-11-30T16:29:40.959425100Z",
     "start_time": "2024-11-30T16:29:40.942389Z"
    }
   },
   "id": "7182c9416656ff37"
  },
  {
   "cell_type": "code",
   "execution_count": 12,
   "outputs": [
    {
     "data": {
      "text/plain": "<Figure size 500x500 with 1 Axes>",
      "image/png": "[encoded data removed]"
     },
     "metadata": {
      "needs_background": "light"
     },
     "output_type": "display_data"
    }
   ],
   "source": [
    "#cuadrado.imprimir_estructura()\n",
    "#print(cuadrado.profundidad)\n",
    "fig, ax = plt.subplots(figsize=(5, 5))\n",
    "ax.set_xlim(-10, 10)\n",
    "ax.set_ylim(-10, 10)\n",
    "ax.set_aspect('equal')\n",
    "ax.axis('off')\n",
    "\n",
    "# Configuración del fondo transparente\n",
    "fig.patch.set_alpha(0)  # Fondo de la figura transparente\n",
    "ax.patch.set_alpha(0)   # Fondo del eje transparente\n",
    "\n",
    "cuadrado.dibujar(ax)\n",
    "\n",
    "plt.show()"
   ],
   "metadata": {
    "collapsed": false,
    "ExecuteTime": {
     "end_time": "2024-11-30T16:26:03.125198600Z",
     "start_time": "2024-11-30T16:26:02.632056Z"
    }
   },
   "id": "ddab1c39e5f6f42d"
  }
 ],
 "metadata": {
  "kernelspec": {
   "display_name": "Python 3",
   "language": "python",
   "name": "python3"
  },
  "language_info": {
   "codemirror_mode": {
    "name": "ipython",
    "version": 2
   },
   "file_extension": ".py",
   "mimetype": "text/x-python",
   "name": "python",
   "nbconvert_exporter": "python",
   "pygments_lexer": "ipython2",
   "version": "2.7.6"
  }
 },
 "nbformat": 4,
 "nbformat_minor": 5
}
