{
 "cells": [
  {
   "cell_type": "code",
   "execution_count": 224,
   "id": "initial_id",
   "metadata": {
    "collapsed": true,
    "ExecuteTime": {
     "end_time": "2025-03-03T17:21:23.760714Z",
     "start_time": "2025-03-03T17:21:23.664801400Z"
    }
   },
   "outputs": [],
   "source": [
    " import networkx as nx\n",
    "import matplotlib.pyplot as plt"
   ]
  },
  {
   "cell_type": "code",
   "execution_count": 225,
   "outputs": [],
   "source": [
    "import matplotlib.pyplot as plt\n",
    "import networkx as nx\n",
    "\n",
    "def mostrar_grafo(graph):\n",
    "    \"\"\"Muestra el grafo utilizando matplotlib.\"\"\"\n",
    "    pos = {node: node for node in graph.nodes()}  # Las posiciones de los nodos corresponden a sus coordenadas (x, y)\n",
    "\n",
    "    # Dibujar los nodos\n",
    "    node_values = [graph.nodes[node].get('value', 0) for node in graph.nodes()]\n",
    "    node_colors = ['red' if value == 0 else 'green' for value in node_values]  # Rojo para paredes (valor 0), verde para el resto\n",
    "\n",
    "    nx.draw(graph, pos, with_labels=True, node_size=500, node_color=node_colors, font_size=8, font_weight='bold')\n",
    "\n",
    "    # Mostrar el grafo\n",
    "    plt.show()\n"
   ],
   "metadata": {
    "collapsed": false,
    "ExecuteTime": {
     "end_time": "2025-03-03T17:21:23.800793300Z",
     "start_time": "2025-03-03T17:21:23.680524700Z"
    }
   },
   "id": "2c238cd4b8c807c1"
  },
  {
   "cell_type": "code",
   "execution_count": 226,
   "outputs": [],
   "source": [
    "def describir_arbol(G):\n",
    "    def describir_arbol_aux(nodo, G, profundidad):\n",
    "        hijos = list(G.successors(nodo))\n",
    "        resultado = \"\\t\"*profundidad+f\"Nodo: {nodo} | Profundidad: {G.nodes[nodo]['profundidad']}\\n\"\n",
    "        if hijos != []:\n",
    "            for hijo in hijos:\n",
    "                resultado+=describir_arbol_aux(hijo,G,profundidad+1)\n",
    "        return resultado\n",
    "    nodes = list(G.nodes)\n",
    "    string = describir_arbol_aux(nodes[0],G,0)\n",
    "    print(string)"
   ],
   "metadata": {
    "collapsed": false,
    "ExecuteTime": {
     "end_time": "2025-03-03T17:21:23.802797400Z",
     "start_time": "2025-03-03T17:21:23.696503300Z"
    }
   },
   "id": "6b5dcec511c4c786"
  },
  {
   "cell_type": "code",
   "execution_count": 227,
   "outputs": [],
   "source": [
    "def hojas_preorden(G):\n",
    "    return [\n",
    "        nodo for nodo in nx.dfs_preorder_nodes(G, source=1)\n",
    "        if G.out_degree(nodo) == 0\n",
    "    ]\n"
   ],
   "metadata": {
    "collapsed": false,
    "ExecuteTime": {
     "end_time": "2025-03-03T17:21:23.802797400Z",
     "start_time": "2025-03-03T17:21:23.705980800Z"
    }
   },
   "id": "5bb5c391bdcf599a"
  },
  {
   "cell_type": "markdown",
   "source": [
    "#### Creación del grafo simultánea.\n",
    "Al crear el grafo simultáneamente, se aprovecha la estructura del árbol para formarlo. Cada vez que el algoritmo de space partitioning selecciona un nodo y crea sus hijos en el árbol, se crean en esa misma iteración del bucle las conexiones de los nuevos nodos entre sí. Una vez esas conexiones están creadas, se conectan los nuevos nodos con las capas superiores:\n",
    "> Si su padre tuvo hermanos('contiguos' != []), se conectan los hijos adyacentes a los hermanos con estos últimos, añadiendo también esta conexión al parámetro contiguos para conexiones más complejas en las que la diferencia de profundidad sea mayor que 1.\n",
    "Problema: No se puede limitar la conexión de los hijos de diferentes nodos en el mismo nivel. Al ser \"heredado\" el atributo 'contiguos', se hereda la conexión con ambos nodos de abajo, cuando los nodos hijo estarían conectados con un solo nodo cada uno."
   ],
   "metadata": {
    "collapsed": false
   },
   "id": "15d9ee06900e5a49"
  },
  {
   "cell_type": "code",
   "execution_count": 228,
   "outputs": [],
   "source": [
    "import random\n",
    "import networkx as nx\n",
    "\n",
    "def formar_particion_estado_4(n, d=5, semilla=None):\n",
    "    # Para conseguir reproducibilidad, podemos introducir una semilla al algoritmo.\n",
    "    if semilla is not None:\n",
    "        random.seed(semilla)\n",
    "    else:\n",
    "        # Generar una seed aleatoria y almacenarla\n",
    "        semilla = random.randint(0, 2**32 - 1)\n",
    "        random.seed(semilla)  # Establecer la seed\n",
    "    \n",
    "    lista_hojas = {1}  # Usamos un set para mejor eficiencia\n",
    "    A = nx.DiGraph()\n",
    "    A.add_node(1, profundidad=0)\n",
    "    A.graph['altura'] = 0\n",
    "    nodos = 1\n",
    "    \n",
    "    for _ in range(n):\n",
    "        if lista_hojas:\n",
    "            selec = random.choice(tuple(lista_hojas))  # Convertir a tupla para elección aleatoria rápida\n",
    "            profundidad_hijos = A.nodes[selec][\"profundidad\"] + 1\n",
    "            \n",
    "            if profundidad_hijos > A.graph['altura']:\n",
    "                A.graph['altura'] = profundidad_hijos\n",
    "            \n",
    "            # Agregar los nuevos nodos\n",
    "            for j in range(1, 5):\n",
    "                nuevo_nodo = nodos + j\n",
    "                A.add_node(nuevo_nodo, profundidad=profundidad_hijos)\n",
    "                A.add_edge(selec, nuevo_nodo)\n",
    "                if profundidad_hijos < d:\n",
    "                    lista_hojas.add(nuevo_nodo)\n",
    "            \n",
    "            lista_hojas.remove(selec)  # El nodo ya no es hoja\n",
    "            nodos += 4  # Se añaden 4 nodos en cada iteración\n",
    "        else:\n",
    "            break\n",
    "            \n",
    "    return A, semilla\n"
   ],
   "metadata": {
    "collapsed": false,
    "ExecuteTime": {
     "end_time": "2025-03-03T17:21:23.802797400Z",
     "start_time": "2025-03-03T17:21:23.728104700Z"
    }
   },
   "id": "e6db4e7f12a054a0"
  },
  {
   "cell_type": "code",
   "execution_count": 229,
   "outputs": [],
   "source": [
    "import matplotlib.patches as patches\n",
    "import os\n",
    "\n",
    "class Cuadrado():\n",
    "    def __init__(self, G, nodo=1, centro=None, tamaño=10, semilla = None):\n",
    "        \n",
    "        self.semilla = semilla if semilla is not None else random.randint(0, 2**32 - 1)\n",
    "        random.seed(self.semilla)\n",
    "        \n",
    "        self.G=G\n",
    "\n",
    "        self.nodo = nodo\n",
    "        self.tamaño = tamaño\n",
    "        if centro is None:\n",
    "            self.centro = (self.tamaño/2,self.tamaño/2)\n",
    "        else:\n",
    "            self.centro=centro\n",
    "        self.profundidad = self.G.graph['altura']\n",
    "            \n",
    "        self.tipo = 'pared'\n",
    "        self.nsalas = 0\n",
    "        self.salas = []\n",
    "        \n",
    "        # limites = [arriba,derecha,abajo,izquierda]\n",
    "        offset = self.tamaño/2\n",
    "        self.limites = [\n",
    "            self.centro[1]+offset,\n",
    "            self.centro[0]+offset,\n",
    "            self.centro[1]-offset,\n",
    "            self.centro[0]-offset\n",
    "        ]\n",
    "\n",
    "        self.cuadrantes = []\n",
    "        \n",
    "        if self.nodo in self.G:\n",
    "            hijos = list(self.G.successors(nodo))\n",
    "        else:\n",
    "            hijos = []\n",
    "        if hijos:\n",
    "            # Se divide por cuatro porque tiene la mitad de tamaño, y después se divide a la mitad otra vez para determinar el centro.\n",
    "            mitad_tamaño = self.tamaño / 2\n",
    "            centro_cuadrante = mitad_tamaño / 2\n",
    "            offsets = [\n",
    "                (-centro_cuadrante, centro_cuadrante),  # Cuadrante arriba izquierda\n",
    "                (centro_cuadrante, centro_cuadrante),  # Cuadrante arriba derecha\n",
    "                (-centro_cuadrante, -centro_cuadrante),  # Cuadrante abajo izquierda\n",
    "                (centro_cuadrante, -centro_cuadrante)  # Cuadrante abajo derecha\n",
    "            ]\n",
    "\n",
    "            for hijo, offset in zip(hijos, offsets):\n",
    "                nuevo_centro = (self.centro[0] + offset[0], self.centro[1] + offset[1])\n",
    "                self.cuadrantes.append(Cuadrado(self.G, hijo, nuevo_centro, mitad_tamaño))\n",
    "                     \n",
    "    def __str__(self):\n",
    "        return f\"Cuadrado(nodo={self.nodo},tipo={self.tipo})\"\n",
    "            \n",
    "    def formar_grafo(self):\n",
    "        lista_hojas = self.hojas_preorden()\n",
    "        self.S = nx.Graph()\n",
    "        # Preprocesar cuadrantes para evitar múltiples llamadas a encontrar_cuadrante()\n",
    "        cuadrantes = {i: self.encontrar_cuadrante(i) for i in lista_hojas}\n",
    "    \n",
    "        # Preprocesar nodos en el grafo S\n",
    "        for i, cuadrante in cuadrantes.items():\n",
    "            if cuadrante.nodo not in self.S:\n",
    "                self.S.add_node(cuadrante.nodo, \n",
    "                                arriba=[], derecha=[], izquierda=[], abajo=[], \n",
    "                                tamaño=self.profundidad - self.G.nodes[cuadrante.nodo]['profundidad'])\n",
    "    \n",
    "        # Direcciones y sus índices en self.limites\n",
    "        direcciones = {\n",
    "            'arriba': (0, 2, 'abajo'),\n",
    "            'derecha': (1, 3, 'izquierda'),\n",
    "            'abajo': (2, 0, 'arriba'),\n",
    "            'izquierda': (3, 1, 'derecha')\n",
    "        }\n",
    "    \n",
    "        # Comparar cada par de nodos\n",
    "        for i, yo in cuadrantes.items():\n",
    "            for j, tu in cuadrantes.items():\n",
    "                if i == j:\n",
    "                    continue  # Evitar comparar el mismo nodo consigo mismo\n",
    "    \n",
    "                for direccion, (lim_i, lim_j, opuesta) in direcciones.items():\n",
    "                    if yo.limites[lim_i] == tu.limites[lim_j]:\n",
    "                        if (direccion in ['arriba', 'abajo'] and yo.limites[1] >= tu.limites[1] and yo.limites[3] <= tu.limites[3]) or \\\n",
    "                           (direccion in ['derecha', 'izquierda'] and yo.limites[0] <= tu.limites[0] and yo.limites[2] >= tu.limites[2]):\n",
    "    \n",
    "                            self.S.add_edge(tu.nodo, yo.nodo)\n",
    "    \n",
    "                            if tu.nodo not in self.S.nodes[yo.nodo][direccion]:\n",
    "                                self.S.nodes[yo.nodo][direccion].append(tu.nodo)\n",
    "                            if yo.nodo not in self.S.nodes[tu.nodo][opuesta]:\n",
    "                                self.S.nodes[tu.nodo][opuesta].append(yo.nodo)\n",
    "                \n",
    "    def encontrar_cuadrante(self, id):\n",
    "        \"\"\"Busca el cuadrante que contiene el nodo con el ID especificado.\"\"\"\n",
    "        if self.nodo == id:\n",
    "            #print(f\"Nodo encontrado: {self.nodo}\")\n",
    "            return self\n",
    "    \n",
    "        for cuadrante in self.cuadrantes:\n",
    "            resultado = cuadrante.encontrar_cuadrante(id)\n",
    "            if resultado is not None:\n",
    "                return resultado\n",
    "            \n",
    "        return None\n",
    "            \n",
    "    def hojas_preorden(self):\n",
    "        return [\n",
    "            nodo for nodo in nx.dfs_preorder_nodes(self.G, source=1)\n",
    "            if self.G.out_degree(nodo) == 0\n",
    "        ]\n",
    "\n",
    "    def crear_mazmorra_clasica(self, n=5, densidad = 1):\n",
    "        def generar_expansiones(nodos,selec):\n",
    "            direcciones_pequeño = set()\n",
    "            direcciones_mismo = set()\n",
    "            pares_contiguos = {(\"arriba\", \"derecha\"), (\"derecha\", \"abajo\"), (\"abajo\", \"izquierda\"), (\"izquierda\", \"arriba\"), }   \n",
    "            # E00\n",
    "            expansiones = {\"E00\":[selec]}\n",
    "            \n",
    "            for attr, vecinos in nodos[selec].items():\n",
    "                if attr == 'tamaño':\n",
    "                    continue  # Saltar la clave 'tamaño'\n",
    "                    \n",
    "                tamaño_menor = []\n",
    "                tamaño_igual = []\n",
    "                \n",
    "                for nodo in vecinos:\n",
    "                    if nodos[nodo]['tamaño'] == nodos[selec]['tamaño']-1:\n",
    "                        tamaño_menor.append(nodo)\n",
    "                    elif nodos[nodo]['tamaño'] == nodos[selec]['tamaño']:\n",
    "                        tamaño_igual.append(nodo)\n",
    "                        \n",
    "                if len(tamaño_menor) == 2:\n",
    "                    direcciones_pequeño.add(attr)\n",
    "                    expansiones[f\"E01_{attr}\"] = [selec] + tamaño_menor\n",
    "        \n",
    "                if tamaño_igual:\n",
    "                    direcciones_mismo.add(attr)\n",
    "                    expansiones[f\"E04_{attr}\"] = [selec] + tamaño_igual\n",
    "            \n",
    "            arriba = nodos[selec]['arriba']\n",
    "            abajo = nodos[selec]['abajo']\n",
    "            mapa_indices = {\n",
    "                (\"arriba\", \"derecha\"): (arriba, 'derecha', 1),\n",
    "                (\"derecha\", \"abajo\"): (abajo, 'derecha', 1),\n",
    "                (\"abajo\", \"izquierda\"): (abajo, 'izquierda', 0),\n",
    "                (\"izquierda\", \"arriba\"): (arriba, 'izquierda', 0)\n",
    "            }\n",
    "            # Direcciones de expansión contiguas\n",
    "            for d1, d2 in pares_contiguos:\n",
    "                \n",
    "                if {d1,d2}.issubset(direcciones_pequeño):\n",
    "                    expansiones[f\"E02_{d1}_{d2}\"] = [selec] + nodos[selec][d1] + nodos[selec][d2]\n",
    "                    if (d1,d2) in mapa_indices:\n",
    "                        nodo_y, nodo_x, indice = mapa_indices[(d1,d2)]\n",
    "                        esquina = nodos[nodo_y[indice]][nodo_x][0]\n",
    "                        if nodos[esquina]['tamaño'] == nodos[selec]['tamaño'] - 1:\n",
    "                            expansiones[f\"E03_{d1}_{d2}\"] = [selec] + nodos[selec][d1] + nodos[selec][d2] + [esquina]\n",
    "                            \n",
    "                if {d1,d2}.issubset(direcciones_mismo):\n",
    "                    expansiones[f\"E05_{d1}_{d2}\"] = [selec] + nodos[selec][d1] + nodos[selec][d2]\n",
    "                    if (d1,d2) in mapa_indices:\n",
    "                        nodo_y, nodo_x, indice = mapa_indices[(d1,d2)]\n",
    "                        esquina = nodos[nodo_y[0]][nodo_x][0]\n",
    "                        if nodos[esquina]['tamaño'] == nodos[selec]['tamaño']:\n",
    "                            expansiones[f\"E03_{d1}_{d2}\"] = [selec] + nodos[selec][d1] + nodos[selec][d2] + [esquina]\n",
    "                            \n",
    "            if {\"arriba\", \"derecha\", \"abajo\", \"izquierda\"}.issubset(direcciones_mismo):\n",
    "                esquinas = {\n",
    "                    \"arriba_derecha\": nodos[arriba[0]]['derecha'][0],\n",
    "                    \"derecha_abajo\": nodos[abajo[0]]['derecha'][0],\n",
    "                    \"abajo_izquierda\": nodos[abajo[0]]['izquierda'][0],\n",
    "                    \"izquierda_arriba\": nodos[arriba[0]]['izquierda'][0]\n",
    "                }\n",
    "                del esquina\n",
    "                if all(nodos[esquina]['tamaño'] == nodos[selec]['tamaño'] for esquina in esquinas.values()):\n",
    "                    expansiones[f\"E07\"] = (\n",
    "                            [selec] + \n",
    "                            nodos[selec]['arriba'] + nodos[selec]['derecha'] + nodos[selec]['abajo'] + nodos[selec]['izquierda'] + \n",
    "                            list(esquinas.values()))\n",
    "        \n",
    "            return dict(sorted((expansiones.items())))\n",
    "        \n",
    "        def seleccionar_expansion(expansiones):\n",
    "            #TODO: selección por tamaño. Relacionado con densidad?\n",
    "            if not expansiones:\n",
    "                return False\n",
    "            while expansiones:\n",
    "                expansion = random.choice(list(expansiones.keys()))\n",
    "                #print(f\"\\tExpansion: {expansion}\")\n",
    "                if all(self.comprobar_adyacentes(nodo, densidad) for nodo in expansiones[expansion]):\n",
    "                    #print(f\"\\t\\tEs válida\")\n",
    "                    for nodo in expansiones[expansion]:\n",
    "                        if nodo in lista_hojas:\n",
    "                            lista_hojas.remove(nodo)\n",
    "                        self.encontrar_cuadrante(nodo).tipo = 'suelo'\n",
    "                    self.nsalas += 1\n",
    "                    self.salas.append(expansiones[expansion])\n",
    "                    #print(f\"SELECCIONADO {selec} con la expansión {expansion}\\n\")\n",
    "                    return True\n",
    "                #print(f\"\\t\\tNo es válida\")\n",
    "                del expansiones[expansion]\n",
    "                #print(f\"\\tExpansión: {expansion}\")\n",
    "            return False\n",
    "        \n",
    "        \n",
    "        lista_hojas = set(self.hojas_preorden())\n",
    "        nodos = self.S.nodes\n",
    "        max_intentos = 100\n",
    "\n",
    "        for i in range(n):\n",
    "            intentos = 0\n",
    "            while intentos < max_intentos:\n",
    "                if not lista_hojas:\n",
    "                    #print(\"No hay más hojas disponibles\")\n",
    "                    return\n",
    "                \n",
    "                selec = random.choice(list(lista_hojas))\n",
    "                nodo_selec = self.encontrar_cuadrante(selec)\n",
    "                #print(f\"Nodo {selec} seleccionado\")\n",
    "                \n",
    "                if nodo_selec.tipo != 'suelo':\n",
    "                    #print(\"\\tNo era suelo\")\n",
    "                    expansiones = generar_expansiones(nodos, selec)\n",
    "                    #print(f\"\\tExpansiones: {expansiones}\")\n",
    "                    \n",
    "                    if seleccionar_expansion(expansiones):\n",
    "                        \n",
    "                        break\n",
    "\n",
    "                intentos += 1\n",
    "            if intentos >= max_intentos:\n",
    "                print(\"Límite alcanzado\")\n",
    "                print(f\"Salas creadas: {i}\")\n",
    "                break\n",
    "\n",
    "    def comprobar_adyacentes(self, nodo, densidad = 1):\n",
    "        # Si la profundidad llega a 0, no se revisan más vecinos\n",
    "        if densidad == 0:\n",
    "            return True\n",
    "        #print(f\"Evaluando nodo {nodo}\")\n",
    "        # Se obtiene la lista de vecinos del nodo\n",
    "        for vecino in list(self.S.neighbors(nodo)):\n",
    "            #print(f\"\\tSu vecino {vecino}...\")\n",
    "            cuadrante = self.encontrar_cuadrante(vecino)\n",
    "            \n",
    "            # Si el vecino directo es 'suelo', retornamos False\n",
    "            if cuadrante.tipo == 'suelo':\n",
    "                #print(\"...es culpable.\")\n",
    "                return False\n",
    "            #print(\"...está libre.\")\n",
    "            # Llamada recursiva para los vecinos de los vecinos, con la profundidad decrementada\n",
    "            if not self.comprobar_adyacentes(vecino, densidad - 1):\n",
    "                return False\n",
    "    \n",
    "        # Si todos los vecinos y vecinos de los vecinos hasta la profundidad son válidos, retornamos True\n",
    "        return True\n",
    "        \n",
    "    def crear_mazmorra_dikjstra(self, n = 5):\n",
    "        pintados = []\n",
    "        lista_hojas = self.hojas_preorden()\n",
    "        print(f\"Lista de hojas: {lista_hojas}\")\n",
    "        \n",
    "        inicio = random.choice(lista_hojas)\n",
    "        fin = random.choice(lista_hojas)\n",
    "        while inicio == fin:\n",
    "            fin = random.choice(lista_hojas)\n",
    "        \n",
    "        print(f\"Camino de {inicio} a {fin}:\")\n",
    "        camino = nx.shortest_path(self.S, source = inicio, target = fin)\n",
    "        print(camino)\n",
    "        \n",
    "        for nodo in camino:\n",
    "            pintados.append(nodo)\n",
    "            print(f\"\\tNodo: {nodo} pintado\")\n",
    "            cuadrante = self.encontrar_cuadrante(nodo)\n",
    "            cuadrante.tipo='suelo'\n",
    "            \n",
    "        for i in range(n-1):\n",
    "            inicio = random.choice(lista_hojas)\n",
    "            fin = random.choice(pintados)\n",
    "            while inicio == fin:\n",
    "                fin = random.choice(pintados)\n",
    "            \n",
    "            print(f\"Camino de {inicio} a {fin}:\")\n",
    "            camino = nx.shortest_path(self.S, source = inicio, target = fin)\n",
    "            print(camino)\n",
    "            \n",
    "            for nodo in camino:\n",
    "                print(f\"\\tNodo: {nodo} pintado\")\n",
    "                cuadrante = self.encontrar_cuadrante(nodo)\n",
    "                cuadrante.tipo='suelo'\n",
    "\n",
    "    def imprimir_estructura(self, nivel=0):\n",
    "        \"\"\"\n",
    "        Imprime la estructura jerárquica del cuadrado.\n",
    "        \"\"\"\n",
    "        print(\" \" * nivel * 4 + str(self))\n",
    "        for cuadrante in self.cuadrantes:\n",
    "            cuadrante.imprimir_estructura(nivel + 1)\n",
    "            \n",
    "    def dibujar_grafo(self):\n",
    "        \"\"\" Dibuja el grafo de conectividad de las salas con los pesos de las aristas \"\"\"\n",
    "        pos = {nodo: (self.encontrar_cuadrante(nodo).centro) for nodo in self.S.nodes}\n",
    "        \n",
    "        plt.figure(figsize=(self.tamaño, self.tamaño))\n",
    "        \n",
    "        # Dibujar nodos y aristas\n",
    "        nx.draw(self.S, pos, with_labels=True, node_size=500, node_color=\"lightblue\", edge_color=\"grey\")\n",
    "        \n",
    "        # Obtener etiquetas de los pesos de las aristas\n",
    "        edge_labels = {(u, v): self.S[u][v].get('peso', '') for u, v in self.S.edges}\n",
    "        \n",
    "        # Dibujar etiquetas de los pesos\n",
    "        nx.draw_networkx_edge_labels(self.S, pos, edge_labels=edge_labels, font_color='red')\n",
    "        \n",
    "        plt.show()\n",
    "    \n",
    "    def dibujar(self, guardar=False):   \n",
    "        # Colores constantes\n",
    "        colores = {\n",
    "            'pared': 'black',\n",
    "            'suelo': 'white',\n",
    "            'borde': 'None'  # Por defecto, sin borde\n",
    "        }\n",
    "        \n",
    "        # Función auxiliar para dibujar los cuadrantes\n",
    "        def dibujar_aux(raiz, ax, transparente):\n",
    "            if not raiz.cuadrantes:\n",
    "                # Dibuja el cuadrado actual\n",
    "                x, y = raiz.centro\n",
    "                tamaño = raiz.tamaño\n",
    "                colores['borde'] = 'grey' if transparente else 'None'  # Cambia solo si es transparente\n",
    "                \n",
    "                rect = patches.Rectangle(\n",
    "                    (x - tamaño / 2, y - tamaño / 2), tamaño, tamaño,\n",
    "                    linewidth=1, edgecolor=colores['borde'], facecolor=colores[raiz.tipo]\n",
    "                )\n",
    "                ax.add_patch(rect)\n",
    "                \n",
    "                if transparente:\n",
    "                    ax.text(x, y, str(raiz.nodo), color='grey', fontsize=raiz.tamaño*5, ha='center', va='center')\n",
    "            \n",
    "            # Dibujar los hijos recursivamente\n",
    "            for cuadrante in raiz.cuadrantes:\n",
    "                dibujar_aux(cuadrante, ax, transparente)\n",
    "    \n",
    "        # Crear los subgráficos\n",
    "        fig, (ax1, ax2) = plt.subplots(figsize=(self.tamaño*2, self.tamaño), ncols=2)\n",
    "        fig.patch.set_facecolor('white')\n",
    "        fig.patch.set_alpha(0.2)  # Fondo de la figura transparente\n",
    "    \n",
    "        # Dibujar ambos subgráficos con el parámetro adecuado de transparencia\n",
    "        for ax, transparente in [(ax1, True), (ax2, False)]:\n",
    "            ax.set_xlim(0, self.tamaño)\n",
    "            ax.set_ylim(0, self.tamaño)\n",
    "            ax.set_aspect('equal')\n",
    "            ax.axis('off')\n",
    "            ax.set_title(str(self.semilla))\n",
    "            dibujar_aux(self, ax, transparente)\n",
    "    \n",
    "        # Guardar la figura si es necesario\n",
    "        if guardar:\n",
    "            carpeta = \"Cuadrados\"\n",
    "            os.makedirs(carpeta, exist_ok=True)  # Crear la carpeta solo si no existe\n",
    "            \n",
    "            # Guardar la figura\n",
    "            archivo_guardado = os.path.join(\n",
    "                carpeta, f\"figura_{self.semilla}_SpacePart_{self.nsalas}.svg\"\n",
    "            )\n",
    "            fig.savefig(archivo_guardado, transparent=False, bbox_inches='tight', dpi=300)\n",
    "            \n",
    "            print(f\"Figura guardada en: {archivo_guardado}\")"
   ],
   "metadata": {
    "collapsed": false,
    "ExecuteTime": {
     "end_time": "2025-03-03T17:21:23.804801500Z",
     "start_time": "2025-03-03T17:21:23.737856700Z"
    }
   },
   "id": "6351520646019f4e"
  },
  {
   "cell_type": "code",
   "execution_count": 230,
   "outputs": [],
   "source": [
    "def crear_mazmorra_space_part(arquitectura, npart = 20, prof_division = 5, nsalas = 5, densidad = 1, guardar = False):\n",
    "    if densidad > 3 or densidad < 0:\n",
    "        print(\"La densidad debe estar entre 0 y 3\")\n",
    "        return \n",
    "    A, semilla = formar_particion_estado_4(npart, d = prof_division)\n",
    "    cuadrado = Cuadrado(A,semilla=semilla)\n",
    "    #cuadrado.imprimir_estructura()\n",
    "    cuadrado.formar_grafo()\n",
    "    cuadrado.dibujar_grafo()\n",
    "    if arquitectura == 'clasica':\n",
    "        cuadrado.crear_mazmorra_clasica(nsalas, densidad=4-densidad)\n",
    "        pass\n",
    "    elif arquitectura == 'dikjstra':\n",
    "        cuadrado.crear_mazmorra_dikjstra(nsalas)\n",
    "        pass\n",
    "    cuadrado.dibujar(guardar=guardar)\n",
    "    return cuadrado"
   ],
   "metadata": {
    "collapsed": false,
    "ExecuteTime": {
     "end_time": "2025-03-03T17:21:23.804801500Z",
     "start_time": "2025-03-03T17:21:23.788577200Z"
    }
   },
   "id": "9cf822a1724ab86f"
  },
  {
   "cell_type": "code",
   "execution_count": 231,
   "outputs": [
    {
     "data": {
      "text/plain": "<Figure size 1000x1000 with 1 Axes>",
      "image/png": "[encoded data removed]"
     },
     "metadata": {},
     "output_type": "display_data"
    },
    {
     "name": "stdout",
     "output_type": "stream",
     "text": [
      "Límite alcanzado\n",
      "Salas creadas: 3\n"
     ]
    },
    {
     "data": {
      "text/plain": "<Figure size 2000x1000 with 2 Axes>",
      "image/png": "[encoded data removed]"
     },
     "metadata": {
      "needs_background": "light"
     },
     "output_type": "display_data"
    }
   ],
   "source": [
    "# 'dikjstra', 'clasica'\n",
    "arquitectura = 'clasica'\n",
    "npart = 10\n",
    "prof = 3\n",
    "nsalas = 5\n",
    "densidad = 1\n",
    "guardar = False\n",
    "\n",
    "cuadrado=crear_mazmorra_space_part(\n",
    "    arquitectura = arquitectura,\n",
    "    npart=npart,\n",
    "    prof_division=prof,\n",
    "    nsalas=nsalas,\n",
    "    densidad=densidad,\n",
    "    guardar=guardar\n",
    ")"
   ],
   "metadata": {
    "collapsed": false,
    "ExecuteTime": {
     "end_time": "2025-03-03T17:21:24.484215500Z",
     "start_time": "2025-03-03T17:21:23.868012800Z"
    }
   },
   "id": "7edeaaa913b8772"
  },
  {
   "cell_type": "code",
   "execution_count": 232,
   "outputs": [],
   "source": [
    "def fill_matrix_from_quadtree(cuadrado, matrix, tamaño):\n",
    "    \"\"\"Rellena la matriz con valores desde un quadtree.\"\"\"\n",
    "    if cuadrado is None:\n",
    "        return\n",
    "    lado = 2 ** cuadrado.profundidad\n",
    "    step = lado / tamaño\n",
    "\n",
    "    if not cuadrado.cuadrantes:  # Es una hoja\n",
    "        #print(f\"Nodo: {cuadrado.nodo}\")\n",
    "        value = 0 if cuadrado.tipo == 'pared' else 1\n",
    "        #print(f\"Valor: {value}\")\n",
    "        #print(f\"{lado}/{tamaño}={step}\")\n",
    "        #print(f\"Limites X: {cuadrado.limites[3]} - {cuadrado.limites[1]}\")\n",
    "        #print(f\"Limites Y: {cuadrado.limites[2]} - {cuadrado.limites[0]}\")\n",
    "\n",
    "        # Convertir coordenadas del cuadrado a índices de la matriz\n",
    "        x_start, x_end = int(cuadrado.limites[3] * step), int(cuadrado.limites[1] * step)\n",
    "\n",
    "        # Corregir inversión del eje Y\n",
    "        y_start, y_end = lado - int(cuadrado.limites[0] * step), lado - int(cuadrado.limites[2] * step)\n",
    "\n",
    "        x_start, x_end = max(0, x_start), min(lado, x_end)\n",
    "        y_start, y_end = max(0, y_start), min(lado, y_end)\n",
    "        #print(f\"Rango X: {x_start} - {x_end}\")\n",
    "        #print(f\"Rango Y: {y_start} - {y_end}\")\n",
    "        matrix[y_start:y_end, x_start:x_end] = value\n",
    "        #print(\"\")\n",
    "    else:  # Llamar recursivamente a los hijos\n",
    "        for child in cuadrado.cuadrantes:\n",
    "            fill_matrix_from_quadtree(child, matrix, tamaño)\n"
   ],
   "metadata": {
    "collapsed": false,
    "ExecuteTime": {
     "end_time": "2025-03-03T17:21:24.498103500Z",
     "start_time": "2025-03-03T17:21:24.406818700Z"
    }
   },
   "id": "f606185383bde345"
  },
  {
   "cell_type": "code",
   "execution_count": 233,
   "outputs": [],
   "source": [
    "def fill_graph_from_quadtree(cuadrado, graph, tamaño):\n",
    "    \"\"\"Rellena el grafo con valores desde un quadtree, invirtiendo el eje Y.\"\"\"\n",
    "    if cuadrado is None:\n",
    "        return\n",
    "    lado = 2 ** cuadrado.profundidad\n",
    "    step = lado / tamaño\n",
    "\n",
    "    if not cuadrado.cuadrantes:  # Es una hoja\n",
    "        value = 0 if cuadrado.tipo == 'pared' else 1\n",
    "\n",
    "        # Convertir coordenadas del cuadrado a índices del grafo\n",
    "        x_start, x_end = int(cuadrado.limites[3] * step), int(cuadrado.limites[1] * step)\n",
    "\n",
    "        # Invertir el eje Y completamente\n",
    "        y_start, y_end = int(cuadrado.limites[2] * step), int(cuadrado.limites[0] * step)\n",
    "\n",
    "        # Asegurar que las coordenadas sean válidas dentro de los límites\n",
    "        x_start, x_end = max(0, x_start), min(lado, x_end)\n",
    "        y_start, y_end = max(0, y_start), min(lado, y_end)\n",
    "\n",
    "        # Crear nodos en el grafo para la celda\n",
    "        for y in range(y_start, y_end):\n",
    "            for x in range(x_start, x_end):\n",
    "                graph.add_node((x, y), nodo=cuadrado.nodo, value=value)\n",
    "\n",
    "        # Conectar los nodos adyacentes si es necesario\n",
    "        for y in range(y_start, y_end):\n",
    "            for x in range(x_start, x_end):\n",
    "                if x < lado - 1:  # Conectar con el nodo a la derecha\n",
    "                    graph.add_edge((x, y), (x + 1, y))\n",
    "                if y > 0:  # Conectar con el nodo abajo (invertido), asegurando que no sea la fila superior\n",
    "                    graph.add_edge((x, y), (x, y - 1))  # Invertir la dirección vertical\n",
    "                if y < lado - 1:  # Asegurar que no se pase del límite inferior\n",
    "                    graph.add_edge((x, y), (x, y + 1))  # Conectar con el nodo de arriba (invertido)\n",
    "\n",
    "    else:  # Llamar recursivamente a los hijos\n",
    "        for child in cuadrado.cuadrantes:\n",
    "            fill_graph_from_quadtree(child, graph, tamaño)\n"
   ],
   "metadata": {
    "collapsed": false,
    "ExecuteTime": {
     "end_time": "2025-03-03T17:21:24.499843100Z",
     "start_time": "2025-03-03T17:21:24.420445200Z"
    }
   },
   "id": "81913251689c87a8"
  },
  {
   "cell_type": "code",
   "execution_count": 234,
   "outputs": [],
   "source": [
    "graph = nx.Graph()\n",
    "fill_graph_from_quadtree(cuadrado, graph, cuadrado.tamaño)"
   ],
   "metadata": {
    "collapsed": false,
    "ExecuteTime": {
     "end_time": "2025-03-03T17:21:24.499843100Z",
     "start_time": "2025-03-03T17:21:24.440300900Z"
    }
   },
   "id": "68e2d066b98e7b3"
  },
  {
   "cell_type": "code",
   "execution_count": 235,
   "outputs": [
    {
     "data": {
      "text/plain": "<Figure size 640x480 with 1 Axes>",
      "image/png": "[encoded data removed]"
     },
     "metadata": {},
     "output_type": "display_data"
    }
   ],
   "source": [
    "mostrar_grafo(graph)"
   ],
   "metadata": {
    "collapsed": false,
    "ExecuteTime": {
     "end_time": "2025-03-03T17:21:24.601295900Z",
     "start_time": "2025-03-03T17:21:24.454414400Z"
    }
   },
   "id": "d346af33a2245062"
  },
  {
   "cell_type": "code",
   "execution_count": 236,
   "outputs": [],
   "source": [
    "def dividir(cuadrante=1):\n",
    "    \"\"\"Divide el cuadrado en cuatro subcuadrantes exactamente una vez.\"\"\"\n",
    "    if cuadrante.cuadrantes:  # Si ya está dividido, no hacer nada\n",
    "        return\n",
    "    \n",
    "    mitad_tamaño = cuadrante.tamaño / 2\n",
    "    centro_cuadrante = mitad_tamaño / 2\n",
    "    offsets = [\n",
    "        (-centro_cuadrante, centro_cuadrante),  # Arriba izquierda\n",
    "        (centro_cuadrante, centro_cuadrante),   # Arriba derecha\n",
    "        (-centro_cuadrante, -centro_cuadrante), # Abajo izquierda\n",
    "        (centro_cuadrante, -centro_cuadrante)   # Abajo derecha\n",
    "    ]\n",
    "    \n",
    "    for i, offset in enumerate(offsets, start=1):\n",
    "        nuevo_centro = (cuadrante.centro[0] + offset[0], cuadrante.centro[1] + offset[1])\n",
    "        nuevo_nodo = f\"{cuadrante.nodo}.{i}\"  # Crea un identificador único para cada subcuadrante\n",
    "        cuadrante.G.add_node(nuevo_nodo, profundidad=cuadrante.profundidad+1)\n",
    "        cuadrante.G.add_edge(cuadrante.nodo, nuevo_nodo)\n",
    "            \n",
    "        cuadrante.cuadrantes.append(Cuadrado(cuadrante.G, nuevo_nodo, nuevo_centro, mitad_tamaño))\n"
   ],
   "metadata": {
    "collapsed": false,
    "ExecuteTime": {
     "end_time": "2025-03-03T17:21:24.612890300Z",
     "start_time": "2025-03-03T17:21:24.594316400Z"
    }
   },
   "id": "dffe2d3ce56517c0"
  },
  {
   "cell_type": "code",
   "execution_count": 237,
   "outputs": [
    {
     "ename": "TypeError",
     "evalue": "encontrar_cuadrante() missing 1 required positional argument: 'id'",
     "output_type": "error",
     "traceback": [
      "\u001B[1;31m---------------------------------------------------------------------------\u001B[0m",
      "\u001B[1;31mTypeError\u001B[0m                                 Traceback (most recent call last)",
      "Cell \u001B[1;32mIn[237], line 1\u001B[0m\n\u001B[1;32m----> 1\u001B[0m cuadrante \u001B[38;5;241m=\u001B[39m \u001B[43mcuadrado\u001B[49m\u001B[38;5;241;43m.\u001B[39;49m\u001B[43mencontrar_cuadrante\u001B[49m\u001B[43m(\u001B[49m\u001B[43m)\u001B[49m\n\u001B[0;32m      2\u001B[0m dividir(cuadrante)\n\u001B[0;32m      3\u001B[0m cuadrado\u001B[38;5;241m.\u001B[39mformar_grafo()\n",
      "\u001B[1;31mTypeError\u001B[0m: encontrar_cuadrante() missing 1 required positional argument: 'id'"
     ]
    }
   ],
   "source": [
    "cuadrante = cuadrado.encontrar_cuadrante()\n",
    "dividir(cuadrante)\n",
    "cuadrado.formar_grafo()"
   ],
   "metadata": {
    "collapsed": false,
    "ExecuteTime": {
     "end_time": "2025-03-03T17:21:24.672975200Z",
     "start_time": "2025-03-03T17:21:24.612890300Z"
    }
   },
   "id": "73f8084fcabb9e6a"
  },
  {
   "cell_type": "code",
   "execution_count": null,
   "outputs": [],
   "source": [
    "#cuadrado.dibujar()\n",
    "#cuadrado.dibujar_grafo()\n",
    "#cuadrado.salas"
   ],
   "metadata": {
    "collapsed": false,
    "ExecuteTime": {
     "start_time": "2025-03-03T17:21:24.625627800Z"
    }
   },
   "id": "309346c7d218f3aa"
  },
  {
   "cell_type": "code",
   "execution_count": null,
   "outputs": [],
   "source": [
    "import copy\n",
    "\n",
    "clon = copy.deepcopy(cuadrado)\n"
   ],
   "metadata": {
    "collapsed": false,
    "ExecuteTime": {
     "start_time": "2025-03-03T17:21:24.629417800Z"
    }
   },
   "id": "b2818cc8e87148aa"
  },
  {
   "cell_type": "code",
   "execution_count": null,
   "outputs": [],
   "source": [
    "S = clon.S\n",
    "G = clon.G\n",
    "aristas = S.edges\n",
    "for edge in aristas:\n",
    "    primero = clon.encontrar_cuadrante(edge[0]).tipo\n",
    "    segundo = clon.encontrar_cuadrante(edge[1]).tipo\n",
    "    if primero == 'suelo':\n",
    "        if segundo == 'suelo': # (suelo, suelo)\n",
    "            aristas[edge]['peso'] = 10\n",
    "        else: # (suelo, pared)\n",
    "            aristas[edge]['peso'] = 10\n",
    "    else:\n",
    "        if segundo == 'suelo': # (pared,suelo)\n",
    "            aristas[edge]['peso'] = 10\n",
    "        else: # (pared, pared)\n",
    "            aristas[edge]['peso'] = 0\n",
    "    #print(f\"Arista {edge}\")\n",
    "    '''if not clon.comprobar_adyacentes(edge[1]):\n",
    "        aristas[edge]['peso'] = 5'''\n",
    "        #print(\"\\n\\n\")"
   ],
   "metadata": {
    "collapsed": false,
    "ExecuteTime": {
     "start_time": "2025-03-03T17:21:24.631421600Z"
    }
   },
   "id": "6093cea497ded9ae"
  },
  {
   "cell_type": "code",
   "execution_count": null,
   "outputs": [],
   "source": [
    "clon.dibujar_grafo()"
   ],
   "metadata": {
    "collapsed": false,
    "ExecuteTime": {
     "start_time": "2025-03-03T17:21:24.633424700Z"
    }
   },
   "id": "da917dab04d12325"
  },
  {
   "cell_type": "code",
   "execution_count": null,
   "outputs": [],
   "source": [
    "source = 26\n",
    "target = 21\n",
    "\n",
    "camino = nx.shortest_path(S, source=source, target=target, weight = 'peso')[1:-1]\n",
    "print(camino)"
   ],
   "metadata": {
    "collapsed": false,
    "ExecuteTime": {
     "start_time": "2025-03-03T17:21:24.633424700Z"
    }
   },
   "id": "48ed8358b2174d83"
  },
  {
   "cell_type": "code",
   "execution_count": null,
   "outputs": [],
   "source": [
    "selec = camino[0]\n",
    "tamaño = G.nodes[selec]['profundidad']\n",
    "print(f\"Nodo: {selec}; Tamaño: {tamaño}\")\n",
    "cuadrante = clon.encontrar_cuadrante(selec)\n",
    "\n",
    "if tamaño <= clon.profundidad:\n",
    "    print(\"\\tSe puede dividir más.\")\n",
    "    dividir(cuadrante)\n",
    "    clon.formar_grafo()\n",
    "camino.remove(selec)\n",
    "print(camino)"
   ],
   "metadata": {
    "collapsed": false,
    "ExecuteTime": {
     "start_time": "2025-03-03T17:21:24.635427100Z"
    }
   },
   "id": "118c13c58f850423"
  }
 ],
 "metadata": {
  "kernelspec": {
   "display_name": "Python 3",
   "language": "python",
   "name": "python3"
  },
  "language_info": {
   "codemirror_mode": {
    "name": "ipython",
    "version": 2
   },
   "file_extension": ".py",
   "mimetype": "text/x-python",
   "name": "python",
   "nbconvert_exporter": "python",
   "pygments_lexer": "ipython2",
   "version": "2.7.6"
  }
 },
 "nbformat": 4,
 "nbformat_minor": 5
}
