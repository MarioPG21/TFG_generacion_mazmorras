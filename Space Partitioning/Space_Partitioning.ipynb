{
 "cells": [
  {
   "cell_type": "code",
   "execution_count": 1,
   "id": "initial_id",
   "metadata": {
    "collapsed": true,
    "ExecuteTime": {
     "end_time": "2024-11-15T09:27:59.613751300Z",
     "start_time": "2024-11-15T09:27:58.987793900Z"
    }
   },
   "outputs": [],
   "source": [
    "import networkx as nx\n",
    "import matplotlib.pyplot as plt"
   ]
  },
  {
   "cell_type": "code",
   "execution_count": 2,
   "outputs": [],
   "source": [
    "import matplotlib.cm as cm  # Para usar una paleta de colores continua\n",
    "from networkx.drawing.nx_agraph import graphviz_layout\n",
    "\n",
    "def mostrar_grafo(G):\n",
    "    plt.figure(figsize=(30,30))\n",
    "    #pos = nx.spring_layout(G,k=1)\n",
    "    #pos=nx.circular_layout(G)\n",
    "    #pos=nx.shell_layout(G)\n",
    "    #pos=nx.random_layout(G)\n",
    "    #pos = graphviz_layout(G, prog='dot')\n",
    "    #pos=nx.spectral_layout(G)\n",
    "    #pos=nx.spiral_layout(G)\n",
    "    \n",
    "    pos = nx.spring_layout(G)\n",
    "    #pos = nx.kamada_kawai_layout(G)\n",
    "    \n",
    "    # Obtener todos los valores de profundidad para ajustar el rango de colores\n",
    "    profundidades = [G.nodes[node].get('profundidad', 0) for node in G.nodes]\n",
    "    \n",
    "    # Normalizar las profundidades para asignar colores continuos en una escala\n",
    "    min_prof, max_prof = min(profundidades), max(profundidades)\n",
    "    colors = [\n",
    "        cm.viridis((prof - min_prof) / (max_prof - min_prof)) if max_prof > min_prof else cm.viridis(0.5)\n",
    "        for prof in profundidades\n",
    "    ]\n",
    "    \n",
    "    nx.draw(G,pos,with_labels=False, node_color=colors, edge_color=\"gray\", node_size=2000, font_size=10)\n",
    "    # Prepara las etiquetas con atributos de cada nodo\n",
    "    labels = {node: f\"n:{node}\\np:{G.nodes[node].get('profundidad', '')}\" for node in G.nodes}\n",
    "    \n",
    "    # Dibuja las etiquetas de los nodos con sus atributos\n",
    "    nx.draw_networkx_labels(G, pos, labels, font_size=15, font_color=\"white\")\n",
    "    \n",
    "    plt.margins(0.2)\n",
    "    plt.show()"
   ],
   "metadata": {
    "collapsed": false,
    "ExecuteTime": {
     "end_time": "2024-11-15T09:27:59.627926Z",
     "start_time": "2024-11-15T09:27:59.620750600Z"
    }
   },
   "id": "2c238cd4b8c807c1"
  },
  {
   "cell_type": "code",
   "execution_count": 3,
   "outputs": [],
   "source": [
    "def dibujar_arbol(grafo, nodo_raiz=1):\n",
    "    # Asegurarse de que el grafo sea dirigido\n",
    "    if not nx.is_directed(grafo):\n",
    "        raise ValueError(\"El grafo debe ser dirigido.\")\n",
    "    \n",
    "    # Calcular la distancia desde el nodo raíz a todos los demás nodos\n",
    "    distancias = nx.single_source_shortest_path_length(grafo, nodo_raiz)\n",
    "    \n",
    "    # Crear la estructura de posiciones de nodos\n",
    "    pos = {nodo_raiz: (0, 0)}  # Posición inicial del nodo raíz en el centro\n",
    "    nivel_offset = 1.5  # Espaciado inicial en el eje x para los hijos de cada nodo\n",
    "    procesados = {nodo_raiz}  # Conjunto para marcar nodos ya procesados\n",
    "    \n",
    "    def asignar_posiciones(nodo, profundidad, offset_x):\n",
    "        \"\"\" Función recursiva para asignar posiciones a los nodos \"\"\"\n",
    "        hijos = list(grafo.successors(nodo))\n",
    "        num_hijos = len(hijos)\n",
    "        \n",
    "        if num_hijos == 0:\n",
    "            return  # Si no tiene hijos, termina la recursión\n",
    "        \n",
    "        # Calcular el espaciado para los hijos basado en el nivel de profundidad\n",
    "        espacio_hijos = offset_x / max(1, num_hijos - 1)  # Reduce el offset en cada nivel\n",
    "        \n",
    "        for i, hijo in enumerate(hijos):\n",
    "            # Asigna posición al hijo basado en su índice\n",
    "            pos[hijo] = (\n",
    "                pos[nodo][0] + (i - (num_hijos - 1) / 2) * espacio_hijos,  # x\n",
    "                pos[nodo][1] - 0.5  # y, bajamos en el eje vertical para el nivel\n",
    "            )\n",
    "            procesados.add(hijo)\n",
    "            # Llamada recursiva para colocar los descendientes del hijo\n",
    "            asignar_posiciones(hijo, profundidad + 1, offset_x / 2)\n",
    "    \n",
    "    # Iniciar la colocación de nodos desde la raíz\n",
    "    asignar_posiciones(nodo_raiz, 0, nivel_offset * len(distancias))\n",
    "    \n",
    "    # Dibujar el grafo usando las posiciones calculadas\n",
    "    plt.figure(figsize=(10, 10,))\n",
    "    nx.draw(grafo, pos=pos, with_labels=True, node_size=500, node_color='lightblue', font_size=10, font_weight='bold', arrows=True)\n",
    "    \n",
    "    # Mostrar el gráfico\n",
    "    plt.title(f'Árbol generado a partir del grafo dirigido (Raíz: Nodo {nodo_raiz})')\n",
    "    plt.show()\n"
   ],
   "metadata": {
    "collapsed": false,
    "ExecuteTime": {
     "end_time": "2024-11-15T09:27:59.657399100Z",
     "start_time": "2024-11-15T09:27:59.633064400Z"
    }
   },
   "id": "370b55b4ff083b97"
  },
  {
   "cell_type": "code",
   "execution_count": 4,
   "outputs": [],
   "source": [
    "import random\n",
    "\n",
    "def formar_particion_estado(n):\n",
    "    lista_hojas = []\n",
    "        \n",
    "    G = nx.DiGraph()\n",
    "    G.add_node(1, profundidad = 0)\n",
    "    G.graph['altura'] = 0\n",
    "    \n",
    "    lista_hojas.append(1)\n",
    "    nodos=1\n",
    "    \n",
    "    for i in range(1,n+1):\n",
    "        selec = random.choice(lista_hojas)\n",
    "        #print(\"Nodo seleccionado: \"+str(selec))\n",
    "        profundidad = nx.shortest_path_length(G, source=1,target=selec)+1\n",
    "        \n",
    "        if profundidad > G.graph['altura']:\n",
    "            G.graph['altura'] = profundidad\n",
    "            \n",
    "        G.add_node(nodos+1,profundidad=profundidad)\n",
    "        G.add_node(nodos+2,profundidad=profundidad)\n",
    "        G.add_edges_from([(selec,nodos+1),(selec,nodos+2)])\n",
    "        #print(\"Añadidos hijos \"+str(nodos+1)+\" y \"+str(nodos+2))\n",
    "        lista_hojas.append(nodos+1)\n",
    "        lista_hojas.append(nodos+2)\n",
    "        lista_hojas.remove(selec)\n",
    "        nodos+=2\n",
    "    \n",
    "    return G"
   ],
   "metadata": {
    "collapsed": false,
    "ExecuteTime": {
     "end_time": "2024-11-15T09:27:59.659400Z",
     "start_time": "2024-11-15T09:27:59.649196100Z"
    }
   },
   "id": "193c4a021d7b1499"
  },
  {
   "cell_type": "code",
   "execution_count": 5,
   "outputs": [],
   "source": [
    "import random\n",
    "\n",
    "def formar_particion_estado_4(n):\n",
    "    lista_hojas = []\n",
    "        \n",
    "    G = nx.DiGraph()\n",
    "    G.add_node(1, profundidad=0)\n",
    "    G.graph['altura'] = 0\n",
    "    \n",
    "    lista_hojas.append(1)\n",
    "    nodos=1\n",
    "    \n",
    "    for i in range(1,n+1):\n",
    "        selec = random.choice(lista_hojas)\n",
    "        #print(\"Nodo seleccionado: \"+str(selec))\n",
    "        profundidad = nx.shortest_path_length(G, source=1,target=selec)+1\n",
    "        \n",
    "        if profundidad > G.graph['altura']:\n",
    "            G.graph['altura'] = profundidad\n",
    "        \n",
    "        G.add_node(nodos+1,profundidad=profundidad)\n",
    "        G.add_node(nodos+2,profundidad=profundidad)\n",
    "        G.add_node(nodos+3,profundidad=profundidad)\n",
    "        G.add_node(nodos+4,profundidad=profundidad)\n",
    "        G.add_edges_from([(selec,nodos+1),(selec,nodos+2),(selec,nodos+3),(selec,nodos+4)])\n",
    "        #print(\"Añadidos hijos \"+str(nodos+1)+\" y \"+str(nodos+2))\n",
    "        lista_hojas.append(nodos+1)\n",
    "        lista_hojas.append(nodos+2)\n",
    "        lista_hojas.append(nodos+3)\n",
    "        lista_hojas.append(nodos+4)\n",
    "        lista_hojas.remove(selec)\n",
    "        nodos+=4\n",
    "    \n",
    "    return G"
   ],
   "metadata": {
    "collapsed": false,
    "ExecuteTime": {
     "end_time": "2024-11-15T09:27:59.673866500Z",
     "start_time": "2024-11-15T09:27:59.665615300Z"
    }
   },
   "id": "e9289a95c9588801"
  },
  {
   "cell_type": "code",
   "execution_count": 6,
   "outputs": [],
   "source": [
    "def describir_arbol(G):\n",
    "    nodes = list(G.nodes)\n",
    "    string = describir_arbol_aux(nodes[0],G,0)\n",
    "    print(string)\n",
    "    \n",
    "def describir_arbol_aux(nodo, G, profundidad):\n",
    "    hijos = list(G.successors(nodo))\n",
    "    resultado = \"\\t\"*profundidad+f\"Nodo: {nodo} | Profundidad: {G.nodes[nodo]['profundidad']}\\n\"\n",
    "    if hijos != []:\n",
    "        for hijo in hijos:\n",
    "            resultado+=describir_arbol_aux(hijo,G,profundidad+1)\n",
    "    return resultado"
   ],
   "metadata": {
    "collapsed": false,
    "ExecuteTime": {
     "end_time": "2024-11-15T09:27:59.705643300Z",
     "start_time": "2024-11-15T09:27:59.676867300Z"
    }
   },
   "id": "6b5dcec511c4c786"
  },
  {
   "cell_type": "code",
   "execution_count": 7,
   "outputs": [
    {
     "name": "stdout",
     "output_type": "stream",
     "text": [
      "Nodo: 1 | Profundidad: 0\n",
      "\tNodo: 2 | Profundidad: 1\n",
      "\t\tNodo: 10 | Profundidad: 2\n",
      "\t\t\tNodo: 14 | Profundidad: 3\n",
      "\t\t\tNodo: 15 | Profundidad: 3\n",
      "\t\t\tNodo: 16 | Profundidad: 3\n",
      "\t\t\tNodo: 17 | Profundidad: 3\n",
      "\t\tNodo: 11 | Profundidad: 2\n",
      "\t\tNodo: 12 | Profundidad: 2\n",
      "\t\tNodo: 13 | Profundidad: 2\n",
      "\tNodo: 3 | Profundidad: 1\n",
      "\tNodo: 4 | Profundidad: 1\n",
      "\t\tNodo: 6 | Profundidad: 2\n",
      "\t\tNodo: 7 | Profundidad: 2\n",
      "\t\tNodo: 8 | Profundidad: 2\n",
      "\t\tNodo: 9 | Profundidad: 2\n",
      "\tNodo: 5 | Profundidad: 1\n"
     ]
    }
   ],
   "source": [
    "G=(formar_particion_estado_4(4))\n",
    "describir_arbol(G)"
   ],
   "metadata": {
    "collapsed": false,
    "ExecuteTime": {
     "end_time": "2024-11-15T09:27:59.719963300Z",
     "start_time": "2024-11-15T09:27:59.692858400Z"
    }
   },
   "id": "735b7a0405b3fb85"
  },
  {
   "cell_type": "code",
   "execution_count": 8,
   "outputs": [
    {
     "data": {
      "text/plain": "3"
     },
     "execution_count": 8,
     "metadata": {},
     "output_type": "execute_result"
    }
   ],
   "source": [
    "G.graph['altura']"
   ],
   "metadata": {
    "collapsed": false,
    "ExecuteTime": {
     "end_time": "2024-11-15T09:27:59.779632800Z",
     "start_time": "2024-11-15T09:27:59.725075500Z"
    }
   },
   "id": "c4c82057dac8f2d1"
  },
  {
   "cell_type": "code",
   "execution_count": 9,
   "outputs": [],
   "source": [
    "def mostrar_cuadrado(cuadrado):\n",
    "    x, y = cuadrado.centro  # Centro del cuadrado\n",
    "    size = cuadrado.tamaño  # Tamaño del lado del cuadrado (puedes ajustar esto)\n",
    "\n",
    "    fig, ax = plt.subplots()\n",
    "    # Dibujar el cuadrado centrado en (x, y)\n",
    "    ax.add_patch(plt.Rectangle((x - size / 2, y - size / 2), size, size, fill=True, color='blue'))\n",
    "\n",
    "    # Ajustar los límites para que muestren solo el cuadrado\n",
    "    ax.set_xlim(x - size, x + size)\n",
    "    ax.set_ylim(y - size, y + size)\n",
    "\n",
    "    ax.set_aspect('equal')\n",
    "    # Ocultar ejes y bordes\n",
    "    ax.axis('off')\n",
    "\n",
    "    # Mostrar solo el cuadrado\n",
    "    plt.show()"
   ],
   "metadata": {
    "collapsed": false,
    "ExecuteTime": {
     "end_time": "2024-11-15T09:27:59.793216400Z",
     "start_time": "2024-11-15T09:27:59.740388800Z"
    }
   },
   "id": "7d08c0fca3cbf53b"
  },
  {
   "cell_type": "code",
   "execution_count": 60,
   "outputs": [],
   "source": [
    "import matplotlib.patches as patches\n",
    "\n",
    "class Cuadrado():\n",
    "    def __init__(self,G,nodo=1,centro=(0,0),tamaño=10):\n",
    "        self.nodo = nodo\n",
    "        self.centro = centro\n",
    "        self.tamaño = tamaño\n",
    "        self.profundidad = G.graph['altura']\n",
    "        self.cuadrantes = []\n",
    "        self.hijos = []\n",
    "        \n",
    "        hijos = list(G.successors(nodo))\n",
    "        \n",
    "        if hijos:\n",
    "            #Se divide por cuatro porque tiene la mitad de tamaño, y después se divide a la mitad otra vez para determinar el centro.\n",
    "            mitad_tamaño = self.tamaño/2\n",
    "            centro_cuadrante = mitad_tamaño/2\n",
    "            offsets = [\n",
    "                (-centro_cuadrante,centro_cuadrante),     #Cuadrante arriba izquierda\n",
    "                (centro_cuadrante,centro_cuadrante),     #Cuadrante arriba derecha\n",
    "                (-centro_cuadrante,-centro_cuadrante),     #Cuadrante abajo izquierda\n",
    "                (centro_cuadrante,-centro_cuadrante)      #Cuadrante abajo derecha\n",
    "            ]\n",
    "            \n",
    "            for hijo, offset in zip(hijos, offsets):\n",
    "                nuevo_centro = (self.centro[0]+offset[0],self.centro[1]+offset[1])\n",
    "                self.cuadrantes.append(Cuadrado(G,hijo,nuevo_centro,mitad_tamaño))\n",
    "    \n",
    "    def __str__(self):\n",
    "        \"\"\"\n",
    "        Representación en texto del cuadrado.\n",
    "        \"\"\"\n",
    "        return f\"Cuadrado(nodo={self.nodo}, centro={self.centro}, tamaño={self.tamaño}, hijos={len(self.cuadrantes)})\"\n",
    "\n",
    "    \n",
    "    def imprimir_estructura(self, nivel=0):\n",
    "        \"\"\"\n",
    "        Imprime la estructura jerárquica del cuadrado.\n",
    "        \"\"\"\n",
    "        print(\" \" * nivel * 4 + str(self))\n",
    "        for cuadrante in self.cuadrantes:\n",
    "            cuadrante.imprimir_estructura(nivel + 1)\n",
    "    \n",
    "    def dibujar(self, ax):\n",
    "        # Dibuja el cuadrado actual\n",
    "        x, y = self.centro\n",
    "        tamaño = self.tamaño\n",
    "        rect = patches.Rectangle(\n",
    "            (x - tamaño / 2, y - tamaño / 2), tamaño, tamaño, \n",
    "            linewidth=1, edgecolor='black', facecolor='none'\n",
    "        )\n",
    "        ax.add_patch(rect)\n",
    "        \n",
    "        # Dibujar los hijos\n",
    "        for cuadrante in self.cuadrantes:\n",
    "            cuadrante.dibujar(ax)"
   ],
   "metadata": {
    "collapsed": false,
    "ExecuteTime": {
     "end_time": "2024-11-15T09:53:13.561042100Z",
     "start_time": "2024-11-15T09:53:13.552996100Z"
    }
   },
   "id": "6351520646019f4e"
  },
  {
   "cell_type": "code",
   "execution_count": 61,
   "outputs": [
    {
     "ename": "TypeError",
     "evalue": "unsupported operand type(s) for +: 'DiGraph' and 'int'",
     "output_type": "error",
     "traceback": [
      "\u001B[1;31m---------------------------------------------------------------------------\u001B[0m",
      "\u001B[1;31mTypeError\u001B[0m                                 Traceback (most recent call last)",
      "Cell \u001B[1;32mIn[61], line 2\u001B[0m\n\u001B[0;32m      1\u001B[0m \u001B[38;5;66;03m#G = formar_particion_estado_4(10)\u001B[39;00m\n\u001B[1;32m----> 2\u001B[0m cuadrado \u001B[38;5;241m=\u001B[39m \u001B[43mCuadrado\u001B[49m\u001B[43m(\u001B[49m\u001B[38;5;241;43m10\u001B[39;49m\u001B[43m)\u001B[49m\n\u001B[0;32m      3\u001B[0m \u001B[38;5;66;03m#cuadrado.imprimir_estructura()\u001B[39;00m\n\u001B[0;32m      4\u001B[0m \u001B[38;5;66;03m#print(cuadrado.profundidad)\u001B[39;00m\n\u001B[0;32m      5\u001B[0m fig, ax \u001B[38;5;241m=\u001B[39m plt\u001B[38;5;241m.\u001B[39msubplots(figsize\u001B[38;5;241m=\u001B[39m(\u001B[38;5;241m10\u001B[39m,\u001B[38;5;241m10\u001B[39m))\n",
      "Cell \u001B[1;32mIn[60], line 34\u001B[0m, in \u001B[0;36mCuadrado.__init__\u001B[1;34m(self, n, nodo, centro, tamaño)\u001B[0m\n\u001B[0;32m     32\u001B[0m \u001B[38;5;28;01mfor\u001B[39;00m hijo, offset \u001B[38;5;129;01min\u001B[39;00m \u001B[38;5;28mzip\u001B[39m(hijos, offsets):\n\u001B[0;32m     33\u001B[0m     nuevo_centro \u001B[38;5;241m=\u001B[39m (\u001B[38;5;28mself\u001B[39m\u001B[38;5;241m.\u001B[39mcentro[\u001B[38;5;241m0\u001B[39m]\u001B[38;5;241m+\u001B[39moffset[\u001B[38;5;241m0\u001B[39m],\u001B[38;5;28mself\u001B[39m\u001B[38;5;241m.\u001B[39mcentro[\u001B[38;5;241m1\u001B[39m]\u001B[38;5;241m+\u001B[39moffset[\u001B[38;5;241m1\u001B[39m])\n\u001B[1;32m---> 34\u001B[0m     \u001B[38;5;28mself\u001B[39m\u001B[38;5;241m.\u001B[39mcuadrantes\u001B[38;5;241m.\u001B[39mappend(\u001B[43mCuadrado\u001B[49m\u001B[43m(\u001B[49m\u001B[43mG\u001B[49m\u001B[43m,\u001B[49m\u001B[43mhijo\u001B[49m\u001B[43m,\u001B[49m\u001B[43mnuevo_centro\u001B[49m\u001B[43m,\u001B[49m\u001B[43mmitad_tamaño\u001B[49m\u001B[43m)\u001B[49m)\n",
      "Cell \u001B[1;32mIn[60], line 6\u001B[0m, in \u001B[0;36mCuadrado.__init__\u001B[1;34m(self, n, nodo, centro, tamaño)\u001B[0m\n\u001B[0;32m      5\u001B[0m \u001B[38;5;28;01mdef\u001B[39;00m \u001B[38;5;21m__init__\u001B[39m(\u001B[38;5;28mself\u001B[39m,n,nodo\u001B[38;5;241m=\u001B[39m\u001B[38;5;241m1\u001B[39m,centro\u001B[38;5;241m=\u001B[39m(\u001B[38;5;241m0\u001B[39m,\u001B[38;5;241m0\u001B[39m),tamaño\u001B[38;5;241m=\u001B[39m\u001B[38;5;241m10\u001B[39m):\n\u001B[1;32m----> 6\u001B[0m     \u001B[38;5;28mself\u001B[39m\u001B[38;5;241m.\u001B[39mG\u001B[38;5;241m=\u001B[39m\u001B[38;5;28;43mself\u001B[39;49m\u001B[38;5;241;43m.\u001B[39;49m\u001B[43mformar_particion_estado_4\u001B[49m\u001B[43m(\u001B[49m\u001B[43mn\u001B[49m\u001B[43m)\u001B[49m\n\u001B[0;32m      7\u001B[0m     tipos \u001B[38;5;241m=\u001B[39m [\u001B[38;5;124m\"\u001B[39m\u001B[38;5;124msuelo\u001B[39m\u001B[38;5;124m\"\u001B[39m,\u001B[38;5;124m\"\u001B[39m\u001B[38;5;124mpared\u001B[39m\u001B[38;5;124m\"\u001B[39m,\u001B[38;5;124m\"\u001B[39m\u001B[38;5;124mpared\u001B[39m\u001B[38;5;124m\"\u001B[39m]\n\u001B[0;32m      8\u001B[0m     \u001B[38;5;28mself\u001B[39m\u001B[38;5;241m.\u001B[39mnodo \u001B[38;5;241m=\u001B[39m nodo\n",
      "Cell \u001B[1;32mIn[60], line 84\u001B[0m, in \u001B[0;36mCuadrado.formar_particion_estado_4\u001B[1;34m(self, n)\u001B[0m\n\u001B[0;32m     81\u001B[0m lista_hojas\u001B[38;5;241m.\u001B[39mappend(\u001B[38;5;241m1\u001B[39m)\n\u001B[0;32m     82\u001B[0m nodos\u001B[38;5;241m=\u001B[39m\u001B[38;5;241m1\u001B[39m\n\u001B[1;32m---> 84\u001B[0m \u001B[38;5;28;01mfor\u001B[39;00m i \u001B[38;5;129;01min\u001B[39;00m \u001B[38;5;28mrange\u001B[39m(\u001B[38;5;241m1\u001B[39m,\u001B[43mn\u001B[49m\u001B[38;5;241;43m+\u001B[39;49m\u001B[38;5;241;43m1\u001B[39;49m):\n\u001B[0;32m     85\u001B[0m     selec \u001B[38;5;241m=\u001B[39m random\u001B[38;5;241m.\u001B[39mchoice(lista_hojas)\n\u001B[0;32m     86\u001B[0m     \u001B[38;5;66;03m#print(\"Nodo seleccionado: \"+str(selec))\u001B[39;00m\n",
      "\u001B[1;31mTypeError\u001B[0m: unsupported operand type(s) for +: 'DiGraph' and 'int'"
     ]
    }
   ],
   "source": [
    "G = formar_particion_estado_4(10)\n",
    "cuadrado = Cuadrado(G)\n",
    "#cuadrado.imprimir_estructura()\n",
    "#print(cuadrado.profundidad)\n",
    "fig, ax = plt.subplots(figsize=(8, 8))\n",
    "ax.set_xlim(-10, 10)\n",
    "ax.set_ylim(-10, 10)\n",
    "ax.set_aspect('equal')\n",
    "ax.axis('off')\n",
    "\n",
    "cuadrado.dibujar(ax)\n",
    "\n",
    "plt.show()"
   ],
   "metadata": {
    "collapsed": false,
    "ExecuteTime": {
     "end_time": "2024-11-15T09:53:18.591432300Z",
     "start_time": "2024-11-15T09:53:18.535225700Z"
    }
   },
   "id": "b62960df18dee769"
  }
 ],
 "metadata": {
  "kernelspec": {
   "display_name": "Python 3",
   "language": "python",
   "name": "python3"
  },
  "language_info": {
   "codemirror_mode": {
    "name": "ipython",
    "version": 2
   },
   "file_extension": ".py",
   "mimetype": "text/x-python",
   "name": "python",
   "nbconvert_exporter": "python",
   "pygments_lexer": "ipython2",
   "version": "2.7.6"
  }
 },
 "nbformat": 4,
 "nbformat_minor": 5
}
