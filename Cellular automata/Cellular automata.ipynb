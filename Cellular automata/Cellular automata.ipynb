{
 "cells": [
  {
   "cell_type": "code",
   "execution_count": 1,
   "outputs": [],
   "source": [
    "import random\n",
    "import matplotlib.pyplot as plt\n",
    "import matplotlib.colors as mcolors\n",
    "from matplotlib.colors import ListedColormap\n",
    "from collections import deque\n",
    "import numpy as np\n",
    "import networkx as nx\n",
    "\n",
    "class Cuadrado():\n",
    "    def __init__(self, dimensiones = 50, p = 0.45, pared=4, cueva = 5, semilla = None):\n",
    "        self.semilla = semilla if semilla is not None else random.randint(0, 2**32 - 1)\n",
    "        random.seed(semilla)\n",
    "        self.dimensiones = dimensiones\n",
    "        self.pared = pared\n",
    "        self.cueva = cueva\n",
    "        self.mapa = [[True if random.random() < p else False for _ in range(dimensiones)] for _ in range(dimensiones)]\n",
    "    \n",
    "    def pintar_mapa(self):\n",
    "        # Crear un colormap personalizado donde True será blanco y False será negro\n",
    "        cmap = mcolors.ListedColormap(['blue', 'white'])\n",
    "        \n",
    "        plt.figure(figsize=(5, 5))\n",
    "        plt.imshow(self.mapa, cmap=cmap, interpolation=\"nearest\")\n",
    "        plt.axis(\"off\")\n",
    "        plt.show()\n",
    "    \n",
    "    def paso_de_simulacion(self):\n",
    "        temp_mapa = [[None for _ in range(self.dimensiones)] for _ in range(self.dimensiones)]\n",
    "        for x in range(self.dimensiones):\n",
    "            for y in range(self.dimensiones):\n",
    "                vecinos_vivos = self.contar_vecinos_vivos(x, y)\n",
    "                if self.mapa[x][y]:\n",
    "                    if vecinos_vivos < self.pared:\n",
    "                        temp_mapa[x][y] = False\n",
    "                    else:\n",
    "                        temp_mapa[x][y] = True\n",
    "                else:\n",
    "                    if vecinos_vivos > self.cueva:\n",
    "                        temp_mapa[x][y] = True\n",
    "                    else:\n",
    "                        temp_mapa[x][y] = False\n",
    "        \n",
    "        self.mapa = temp_mapa\n",
    "    def contar_vecinos_vivos(self, x, y):\n",
    "        '''\n",
    "            x-1 x x+1\n",
    "        y-1  #  #  #\n",
    "         y   #  x  #\n",
    "        y+1  #  #  #\n",
    "        '''\n",
    "        count = 0\n",
    "        for i in range(-1,2):\n",
    "            for j in range(-1,2):\n",
    "                vecino_x = x+i\n",
    "                vecino_y = y+j\n",
    "                # No queremos contarnos a nosotros mmismos\n",
    "                if i == 0 and j == 0:\n",
    "                    continue\n",
    "                # Para rellenar los bordes de la cueva, esto puede aplicarse.\n",
    "                elif vecino_x < 0 or vecino_y < 0 or vecino_x >= self.dimensiones or vecino_y >= self.dimensiones:\n",
    "                    count += 1\n",
    "                elif self.mapa[vecino_x][vecino_y]:\n",
    "                    count += 1\n",
    "        return count\n",
    "    \n",
    "    def mantener_mayor_caverna(self):\n",
    "        visitados = [[False for _ in range(self.dimensiones)] for _ in range(self.dimensiones)]\n",
    "        mayor_caverna = []\n",
    "        \n",
    "        for i in range(self.dimensiones):\n",
    "            for j in range(self.dimensiones):\n",
    "                if not self.mapa[i][j] and not visitados[i][j]:\n",
    "                    caverna_actual = []\n",
    "                    cola = deque()\n",
    "                    cola.append((i, j))\n",
    "                    visitados[i][j] = True\n",
    "                    \n",
    "                    while cola:\n",
    "                        x, y = cola.popleft()\n",
    "                        caverna_actual.append((x, y))\n",
    "                        \n",
    "                        for dx, dy in [(1,0),(-1,0),(0,1),(0,-1)]:\n",
    "                            nx = x + dx\n",
    "                            ny = y + dy\n",
    "                            if 0 <= nx < self.dimensiones and 0 <= ny < self.dimensiones:\n",
    "                                if not self.mapa[nx][ny] and not visitados[nx][ny]:\n",
    "                                    visitados[nx][ny] = True\n",
    "                                    cola.append((nx, ny))\n",
    "                    #print(f\"Actual {len(caverna_actual)} | Mayor {len(mayor_caverna)}\")\n",
    "                    if len(caverna_actual) > len(mayor_caverna):\n",
    "                        mayor_caverna = caverna_actual\n",
    "        nuevo_mapa = [[True for _ in range(self.dimensiones)] for _ in range(self.dimensiones)]\n",
    "        for x, y in mayor_caverna:\n",
    "            nuevo_mapa[x][y] = False\n",
    "        self.mapa = nuevo_mapa\n",
    "    \n",
    "    def generar_salas_flood(self, num_semillas=15, visualizar=True):\n",
    "        \"\"\"\n",
    "        Divide la caverna en salas mediante expansión simultánea desde semillas.\n",
    "        \"\"\"\n",
    "        # Obtener celdas accesibles y dimensiones\n",
    "        celdas_suelo = np.argwhere(np.logical_not(self.mapa))\n",
    "        dim = self.dimensiones\n",
    "        \n",
    "        # Manejar caso sin celdas de suelo\n",
    "        if len(celdas_suelo) == 0:\n",
    "            return np.full((dim, dim), -1, dtype=int), []\n",
    "        \n",
    "        # Ajustar num_semillas si es necesario\n",
    "        if len(celdas_suelo) < num_semillas:\n",
    "            num_semillas = len(celdas_suelo)\n",
    "        \n",
    "        # Seleccionar semillas usando random para mantener coherencia con la semilla de la clase\n",
    "        indices = random.sample(range(len(celdas_suelo)), num_semillas)\n",
    "        semillas = celdas_suelo[indices]\n",
    "        \n",
    "        # Inicializar matriz de salas y cola BFS\n",
    "        salas = np.full((dim, dim), -1, dtype=int)\n",
    "        cola = deque()\n",
    "        \n",
    "        # Asignar semillas e iniciar expansión\n",
    "        for idx, (x, y) in enumerate(semillas):\n",
    "            salas[x, y] = idx\n",
    "            cola.append((x, y, idx))\n",
    "        \n",
    "        # Direcciones de expansión (4-vecinos)\n",
    "        direcciones = [(-1,0), (1,0), (0,-1), (0,1)]\n",
    "        \n",
    "        # Expansión simultánea\n",
    "        while cola:\n",
    "            x, y, region = cola.popleft()\n",
    "            for dx, dy in direcciones:\n",
    "                nx, ny = x + dx, y + dy\n",
    "                if 0 <= nx < dim and 0 <= ny < dim:\n",
    "                    if salas[nx, ny] == -1 and not self.mapa[nx][ny]:\n",
    "                        salas[nx, ny] = region\n",
    "                        cola.append((nx, ny, region))\n",
    "        # Visualización\n",
    "        if visualizar:\n",
    "            fig, ax = plt.subplots(figsize=(8, 8))\n",
    "        \n",
    "            # Base: blanco para cueva, negro para pared\n",
    "            base = np.where(self.mapa, 0, 1)\n",
    "            ax.imshow(base, cmap=ListedColormap(['black', 'white']), origin='upper')\n",
    "        \n",
    "            # Dibujar bordes entre salas distintas (pero no con pared)\n",
    "            bordes = np.zeros((dim, dim))\n",
    "            for x in range(dim):\n",
    "                for y in range(dim):\n",
    "                    if not self.mapa[x][y] and salas[x, y] != -1:\n",
    "                        for dx, dy in direcciones:\n",
    "                            nx_, ny_ = x + dx, y + dy\n",
    "                            if 0 <= nx_ < dim and 0 <= ny_ < dim:\n",
    "                                if not self.mapa[nx_][ny_] and salas[nx_, ny_] != -1:\n",
    "                                    if salas[nx_, ny_] != salas[x, y]:\n",
    "                                        bordes[x, y] = 1\n",
    "        \n",
    "            ax.imshow(np.where(bordes == 1, 0.5, np.nan), cmap=ListedColormap(['gray']), alpha=1.0, origin='upper')\n",
    "        \n",
    "            # Marcar semillas opcional\n",
    "            ax.scatter(semillas[:, 1], semillas[:, 0], c='red', s=20, marker='x')\n",
    "        \n",
    "            ax.set_title(f'Expansión con bordes entre salas ({num_semillas} semillas)')\n",
    "            ax.axis('off')\n",
    "            plt.show()\n",
    "\n",
    "            \n",
    "        return salas  \n",
    "            \n",
    "            \n",
    "    def matriz_a_grafo(self, salas):\n",
    "        \"\"\"\n",
    "        Crea un grafo desde la matriz de regiones (salas) generadas por flood fill.\n",
    "        Cada nodo corresponde al centroide de una sala.\n",
    "        Las aristas se crean entre regiones adyacentes.\n",
    "        \"\"\"\n",
    "        dim = self.dimensiones\n",
    "        grafo = nx.Graph()\n",
    "        regiones = {}\n",
    "\n",
    "        # Agrupar celdas por región\n",
    "        for x in range(dim):\n",
    "            for y in range(dim):\n",
    "                r = salas[x][y]\n",
    "                if r != -1:\n",
    "                    regiones.setdefault(r, []).append((x, y))\n",
    "\n",
    "        # Añadir nodos en los centroides\n",
    "        self.centros = {}\n",
    "        for region, celdas in regiones.items():\n",
    "            xs, ys = zip(*celdas)\n",
    "            centroide = (sum(ys) / len(ys), sum(xs) / len(xs))  # (columna, fila)\n",
    "            grafo.add_node(region, pos=centroide)\n",
    "            self.centros[region] = centroide\n",
    "\n",
    "        # Añadir aristas entre regiones adyacentes\n",
    "        ya_conectados = set()\n",
    "        for x in range(dim):\n",
    "            for y in range(dim):\n",
    "                actual = salas[x][y]\n",
    "                if actual == -1:\n",
    "                    continue\n",
    "                for dx, dy in [(-1, 0), (1, 0), (0, -1), (0, 1)]:\n",
    "                    nx_, ny_ = x + dx, y + dy\n",
    "                    if 0 <= nx_ < dim and 0 <= ny_ < dim:\n",
    "                        vecino = salas[nx_][ny_]\n",
    "                        if vecino != -1 and vecino != actual:\n",
    "                            par = tuple(sorted((actual, vecino)))\n",
    "                            if par not in ya_conectados:\n",
    "                                ya_conectados.add(par)\n",
    "                                grafo.add_edge(*par)\n",
    "        self.grafo = grafo\n",
    "\n",
    "    def mostrar_mapa_y_grafo(self, salas):\n",
    "        \"\"\"\n",
    "        Muestra el mapa binario (cueva/pared) y bordes solo entre salas diferentes, con grafo superpuesto.\n",
    "        \"\"\"\n",
    "        dim = self.dimensiones\n",
    "        fig, ax = plt.subplots(figsize=(8, 8))\n",
    "    \n",
    "        # Base: blanco para cueva, negro para pared\n",
    "        base = np.where(self.mapa, 0, 1)\n",
    "        ax.imshow(base, cmap=ListedColormap(['black', 'white']), origin='upper')\n",
    "    \n",
    "        # Bordes solo entre salas distintas\n",
    "        bordes = np.zeros((dim, dim))\n",
    "        for x in range(dim):\n",
    "            for y in range(dim):\n",
    "                if not self.mapa[x][y] and salas[x, y] != -1:\n",
    "                    for dx, dy in [(-1, 0), (1, 0), (0, -1), (0, 1)]:\n",
    "                        nx_, ny_ = x + dx, y + dy\n",
    "                        if 0 <= nx_ < dim and 0 <= ny_ < dim:\n",
    "                            if not self.mapa[nx_][ny_] and salas[nx_, ny_] != -1:\n",
    "                                if salas[nx_, ny_] != salas[x, y]:\n",
    "                                    bordes[x, y] = 1\n",
    "    \n",
    "        ax.imshow(np.where(bordes == 1, 0.5, np.nan), cmap=ListedColormap(['gray']), alpha=1.0, origin='upper')\n",
    "    \n",
    "        # Mostrar grafo\n",
    "        pos = nx.get_node_attributes(self.grafo, 'pos')\n",
    "        nx.draw(self.grafo, pos, with_labels=True, node_color='red',\n",
    "                edge_color='yellow', node_size=300, ax=ax, font_size=10)\n",
    "        nx.draw_networkx_edge_labels(self.grafo, pos,\n",
    "                                     edge_labels={(u, v): '' for u, v in self.grafo.edges},\n",
    "                                     font_color='gray', ax=ax)\n",
    "    \n",
    "        ax.set_title(\"Mapa y grafo (solo bordes entre salas)\")\n",
    "        ax.axis('off')\n",
    "        plt.show()\n",
    "\n"
   ],
   "metadata": {
    "collapsed": false,
    "ExecuteTime": {
     "end_time": "2025-06-02T16:43:27.961141600Z",
     "start_time": "2025-06-02T16:43:27.461137900Z"
    }
   },
   "id": "bc7ac1bf14015ea8"
  },
  {
   "cell_type": "code",
   "execution_count": 2,
   "outputs": [],
   "source": [
    "def automata_celular(iteraciones = 4,dimensiones = 50, p = 0.45, pared = 4, cueva = 5, num_semillas=5,semilla = None):\n",
    "    mapa = Cuadrado(dimensiones=dimensiones, p=p, pared=pared, cueva=cueva, semilla=semilla)\n",
    "    for _ in range(iteraciones):\n",
    "        mapa.paso_de_simulacion()\n",
    "    mapa.pintar_mapa()\n",
    "    mapa.mantener_mayor_caverna()\n",
    "    salas = mapa.generar_salas_flood(num_semillas=10, visualizar=True)\n",
    "    \n",
    "    \n",
    "    mapa.matriz_a_grafo(salas)\n",
    "    mapa.mostrar_mapa_y_grafo(salas)\n",
    "    \n",
    "    return mapa"
   ],
   "metadata": {
    "collapsed": false,
    "ExecuteTime": {
     "end_time": "2025-06-02T16:43:27.977203400Z",
     "start_time": "2025-06-02T16:43:27.961141600Z"
    }
   },
   "id": "ab5903de31f434b6"
  },
  {
   "cell_type": "code",
   "execution_count": 10,
   "outputs": [
    {
     "data": {
      "text/plain": "<Figure size 500x500 with 1 Axes>",
      "image/png": "[encoded data removed]"
     },
     "metadata": {},
     "output_type": "display_data"
    },
    {
     "data": {
      "text/plain": "<Figure size 800x800 with 1 Axes>",
      "image/png": "[encoded data removed]"
     },
     "metadata": {},
     "output_type": "display_data"
    },
    {
     "data": {
      "text/plain": "<Figure size 800x800 with 1 Axes>",
      "image/png": "[encoded data removed]"
     },
     "metadata": {},
     "output_type": "display_data"
    }
   ],
   "source": [
    "iteraciones = 2\n",
    "dimensiones = 50\n",
    "p = 0.6\n",
    "pared = 5\n",
    "cueva = 5\n",
    "semilla = None\n",
    "mapa = automata_celular(iteraciones=iteraciones, dimensiones=dimensiones, p=p, pared=pared, cueva=cueva, num_semillas = 5, semilla=semilla)"
   ],
   "metadata": {
    "collapsed": false,
    "ExecuteTime": {
     "end_time": "2025-06-02T16:43:50.926970700Z",
     "start_time": "2025-06-02T16:43:50.602501700Z"
    }
   },
   "id": "dda71fb270e33897"
  },
  {
   "cell_type": "code",
   "execution_count": 4,
   "outputs": [
    {
     "data": {
      "text/plain": "<networkx.classes.graph.Graph at 0x1864f043b80>"
     },
     "execution_count": 4,
     "metadata": {},
     "output_type": "execute_result"
    }
   ],
   "source": [
    "mapa.grafo"
   ],
   "metadata": {
    "collapsed": false,
    "ExecuteTime": {
     "end_time": "2025-06-02T16:43:28.330796100Z",
     "start_time": "2025-06-02T16:43:28.314596300Z"
    }
   },
   "id": "c98b64062bf1437c"
  },
  {
   "cell_type": "code",
   "execution_count": 5,
   "outputs": [],
   "source": [
    "def seleccionar_inicio_y_final(grafo):\n",
    "    inicio = random.choice(list(grafo.nodes))\n",
    "    distancias = nx.single_source_dijkstra_path_length(grafo, inicio)\n",
    "    hojas = [n for n in grafo.nodes if grafo.degree[n] == 1]\n",
    "\n",
    "    if hojas:\n",
    "        final = max(hojas, key=lambda n: distancias.get(n, -1))\n",
    "    else:\n",
    "        final = max(distancias, key=distancias.get)\n",
    "\n",
    "    return inicio, final\n"
   ],
   "metadata": {
    "collapsed": false,
    "ExecuteTime": {
     "end_time": "2025-06-02T16:43:28.425506100Z",
     "start_time": "2025-06-02T16:43:28.330796100Z"
    }
   },
   "id": "832e9291401207fc"
  },
  {
   "cell_type": "code",
   "execution_count": 6,
   "outputs": [
    {
     "name": "stdout",
     "output_type": "stream",
     "text": [
      "4 7\n"
     ]
    }
   ],
   "source": [
    "inicio, final = seleccionar_inicio_y_final(mapa.grafo)\n",
    "print(inicio, final)"
   ],
   "metadata": {
    "collapsed": false,
    "ExecuteTime": {
     "end_time": "2025-06-02T16:43:28.425506100Z",
     "start_time": "2025-06-02T16:43:28.346564700Z"
    }
   },
   "id": "1d7cad9cad382d38"
  },
  {
   "cell_type": "code",
   "execution_count": 7,
   "outputs": [],
   "source": [
    "import numpy as np\n",
    "from scipy.spatial import Voronoi\n",
    "from matplotlib import pyplot as plt\n",
    "\n",
    "def generar_salas_voronoi(mapa, num_semillas=15, visualizar=True):\n",
    "    # Obtener todas las celdas accesibles (suelo)\n",
    "    celdas_suelo = np.argwhere(np.logical_not(mapa.mapa))\n",
    "    \n",
    "    # Generar semillas aleatorias dentro de la caverna usando las celdas de suelo\n",
    "    if len(celdas_suelo) < num_semillas:\n",
    "        num_semillas = len(celdas_suelo)\n",
    "    indices_semillas = np.random.choice(len(celdas_suelo), num_semillas, replace=False)\n",
    "    semillas = celdas_suelo[indices_semillas]\n",
    "    \n",
    "    # Calcular diagrama de Voronoi\n",
    "    vor = Voronoi(semillas)\n",
    "    \n",
    "    # Crear matriz para almacenar las salas (etiquetas numéricas)\n",
    "    salas = np.full((mapa.dimensiones, mapa.dimensiones), -1, dtype=int)\n",
    "    \n",
    "    # Asignar cada celda de suelo a la región de Voronoi más cercana\n",
    "    for idx, (x, y) in enumerate(celdas_suelo):\n",
    "        distancias = np.linalg.norm(semillas - [x, y], axis=1)\n",
    "        region = np.argmin(distancias)\n",
    "        salas[x, y] = region\n",
    "    \n",
    "    # Visualización opcional\n",
    "    if visualizar:\n",
    "        plt.figure(figsize=(8, 8))\n",
    "        plt.imshow(salas, cmap='tab20', interpolation='nearest')  # Usamos una paleta de 20 colores\n",
    "        plt.scatter(semillas[:, 1], semillas[:, 0], c='black', s=10)  # Dibujar semillas\n",
    "        plt.axis('off')\n",
    "        plt.title(f'Segmentación Voronoi ({num_semillas} semillas)')\n",
    "        plt.show()\n",
    "    \n",
    "    return salas, semillas"
   ],
   "metadata": {
    "collapsed": false,
    "ExecuteTime": {
     "end_time": "2025-06-02T16:43:28.741656Z",
     "start_time": "2025-06-02T16:43:28.362542700Z"
    }
   },
   "id": "ee3691769d8533eb"
  },
  {
   "cell_type": "code",
   "execution_count": 8,
   "outputs": [
    {
     "data": {
      "text/plain": "<Figure size 800x800 with 1 Axes>",
      "image/png": "[encoded data removed]"
     },
     "metadata": {},
     "output_type": "display_data"
    }
   ],
   "source": [
    "# Generar y visualizar salas Voronoi\n",
    "salas, semillas = generar_salas_voronoi(mapa, num_semillas=5)"
   ],
   "metadata": {
    "collapsed": false,
    "ExecuteTime": {
     "end_time": "2025-06-02T16:43:28.849021500Z",
     "start_time": "2025-06-02T16:43:28.741656Z"
    }
   },
   "id": "b35459d7ac12b041"
  }
 ],
 "metadata": {
  "kernelspec": {
   "display_name": "Python 3",
   "language": "python",
   "name": "python3"
  },
  "language_info": {
   "codemirror_mode": {
    "name": "ipython",
    "version": 2
   },
   "file_extension": ".py",
   "mimetype": "text/x-python",
   "name": "python",
   "nbconvert_exporter": "python",
   "pygments_lexer": "ipython2",
   "version": "2.7.6"
  }
 },
 "nbformat": 4,
 "nbformat_minor": 5
}
