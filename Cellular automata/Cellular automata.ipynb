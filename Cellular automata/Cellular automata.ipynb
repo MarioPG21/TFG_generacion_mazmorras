{
 "cells": [
  {
   "cell_type": "code",
   "execution_count": 166,
   "outputs": [],
   "source": [
    "import random\n",
    "import matplotlib.pyplot as plt\n",
    "import matplotlib.colors as mcolors\n",
    "from collections import deque\n",
    "\n",
    "class Cuadrado():\n",
    "    def __init__(self, dimensiones = 50, p = 0.45, pared=4, cueva = 5, semilla = None):\n",
    "        self.semilla = semilla if semilla is not None else random.randint(0, 2**32 - 1)\n",
    "        random.seed(semilla)\n",
    "        self.dimensiones = dimensiones\n",
    "        self.pared = pared\n",
    "        self.cueva = cueva\n",
    "        self.mapa = [[True if random.random() < p else False for _ in range(dimensiones)] for _ in range(dimensiones)]\n",
    "    \n",
    "    def pintar_mapa(self):\n",
    "        # Crear un colormap personalizado donde True será blanco y False será negro\n",
    "        cmap = mcolors.ListedColormap(['blue', 'white'])\n",
    "        \n",
    "        plt.figure(figsize=(5, 5))\n",
    "        plt.imshow(self.mapa, cmap=cmap, interpolation=\"nearest\")\n",
    "        plt.axis(\"off\")\n",
    "        plt.show()\n",
    "    \n",
    "    def paso_de_simulacion(self):\n",
    "        temp_mapa = [[None for _ in range(self.dimensiones)] for _ in range(self.dimensiones)]\n",
    "        for x in range(self.dimensiones):\n",
    "            for y in range(self.dimensiones):\n",
    "                vecinos_vivos = self.contar_vecinos_vivos(x, y)\n",
    "                if self.mapa[x][y]:\n",
    "                    if vecinos_vivos < self.pared:\n",
    "                        temp_mapa[x][y] = False\n",
    "                    else:\n",
    "                        temp_mapa[x][y] = True\n",
    "                else:\n",
    "                    if vecinos_vivos > self.cueva:\n",
    "                        temp_mapa[x][y] = True\n",
    "                    else:\n",
    "                        temp_mapa[x][y] = False\n",
    "        \n",
    "        self.mapa = temp_mapa\n",
    "    def contar_vecinos_vivos(self, x, y):\n",
    "        '''\n",
    "            x-1 x x+1\n",
    "        y-1  #  #  #\n",
    "         y   #  x  #\n",
    "        y+1  #  #  #\n",
    "        '''\n",
    "        count = 0\n",
    "        for i in range(-1,2):\n",
    "            for j in range(-1,2):\n",
    "                vecino_x = x+i\n",
    "                vecino_y = y+j\n",
    "                # No queremos contarnos a nosotros mmismos\n",
    "                if i == 0 and j == 0:\n",
    "                    continue\n",
    "                # Para rellenar los bordes de la cueva, esto puede aplicarse.\n",
    "                elif vecino_x < 0 or vecino_y < 0 or vecino_x >= self.dimensiones or vecino_y >= self.dimensiones:\n",
    "                    count += 1\n",
    "                elif self.mapa[vecino_x][vecino_y]:\n",
    "                    count += 1\n",
    "        return count\n",
    "    \n",
    "    def mantener_mayor_caverna(self):\n",
    "        visitados = [[False for _ in range(self.dimensiones)] for _ in range(self.dimensiones)]\n",
    "        mayor_caverna = []\n",
    "        \n",
    "        for i in range(self.dimensiones):\n",
    "            for j in range(self.dimensiones):\n",
    "                if not self.mapa[i][j] and not visitados[i][j]:\n",
    "                    caverna_actual = []\n",
    "                    cola = deque()\n",
    "                    cola.append((i, j))\n",
    "                    visitados[i][j] = True\n",
    "                    \n",
    "                    while cola:\n",
    "                        x, y = cola.popleft()\n",
    "                        caverna_actual.append((x, y))\n",
    "                        \n",
    "                        for dx, dy in [(1,0),(-1,0),(0,1),(0,-1)]:\n",
    "                            nx = x + dx\n",
    "                            ny = y + dy\n",
    "                            if 0 <= nx < self.dimensiones and 0 <= ny < self.dimensiones:\n",
    "                                if not self.mapa[nx][ny] and not visitados[nx][ny]:\n",
    "                                    visitados[nx][ny] = True\n",
    "                                    cola.append((nx, ny))\n",
    "                    #print(f\"Actual {len(caverna_actual)} | Mayor {len(mayor_caverna)}\")\n",
    "                    if len(caverna_actual) > len(mayor_caverna):\n",
    "                        mayor_caverna = caverna_actual\n",
    "        nuevo_mapa = [[True for _ in range(self.dimensiones)] for _ in range(self.dimensiones)]\n",
    "        for x, y in mayor_caverna:\n",
    "            nuevo_mapa[x][y] = False\n",
    "        self.mapa = nuevo_mapa"
   ],
   "metadata": {
    "collapsed": false,
    "ExecuteTime": {
     "end_time": "2025-03-25T18:25:20.907913600Z",
     "start_time": "2025-03-25T18:25:20.893012900Z"
    }
   },
   "id": "bc7ac1bf14015ea8"
  },
  {
   "cell_type": "code",
   "execution_count": 167,
   "outputs": [],
   "source": [
    "def automata_celular(iteraciones = 4,dimensiones = 50, p = 0.45, pared = 4, cueva = 5, semilla = None):\n",
    "    mapa = Cuadrado(dimensiones=dimensiones, p = p, pared = pared, cueva = cueva, semilla = semilla)\n",
    "    for _ in range(iteraciones):\n",
    "        mapa.paso_de_simulacion()\n",
    "    mapa.pintar_mapa()\n",
    "    mapa.mantener_mayor_caverna()\n",
    "    mapa.pintar_mapa()\n",
    "    return mapa"
   ],
   "metadata": {
    "collapsed": false,
    "ExecuteTime": {
     "end_time": "2025-03-25T18:25:21.232923400Z",
     "start_time": "2025-03-25T18:25:21.225862600Z"
    }
   },
   "id": "ab5903de31f434b6"
  },
  {
   "cell_type": "code",
   "execution_count": 196,
   "outputs": [
    {
     "data": {
      "text/plain": "<Figure size 500x500 with 1 Axes>",
      "image/png": "[encoded data removed]"
     },
     "metadata": {},
     "output_type": "display_data"
    },
    {
     "data": {
      "text/plain": "<Figure size 500x500 with 1 Axes>",
      "image/png": "[encoded data removed]"
     },
     "metadata": {},
     "output_type": "display_data"
    }
   ],
   "source": [
    "# TODO: Postprocesamiento con Flood Fill\n",
    "'''\n",
    "iteraciones = 4\n",
    "dimensiones = 50\n",
    "p = 0.6\n",
    "pared = 5\n",
    "cueva = 5\n",
    "semilla = None\n",
    "'''\n",
    "iteraciones = 10\n",
    "dimensiones = 200\n",
    "p = 0.6\n",
    "pared = 5\n",
    "cueva = 4\n",
    "semilla = None\n",
    "mapa = automata_celular(iteraciones=iteraciones, dimensiones=dimensiones, p=p, pared=pared, cueva=cueva, semilla=semilla)"
   ],
   "metadata": {
    "collapsed": false,
    "ExecuteTime": {
     "end_time": "2025-03-25T18:27:44.828160500Z",
     "start_time": "2025-03-25T18:27:43.685202100Z"
    }
   },
   "id": "dda71fb270e33897"
  },
  {
   "cell_type": "code",
   "execution_count": 161,
   "outputs": [
    {
     "data": {
      "text/plain": "3750637524"
     },
     "execution_count": 161,
     "metadata": {},
     "output_type": "execute_result"
    }
   ],
   "source": [
    "mapa.semilla"
   ],
   "metadata": {
    "collapsed": false,
    "ExecuteTime": {
     "end_time": "2025-03-25T18:24:51.927865600Z",
     "start_time": "2025-03-25T18:24:51.917583700Z"
    }
   },
   "id": "ee3691769d8533eb"
  }
 ],
 "metadata": {
  "kernelspec": {
   "display_name": "Python 3",
   "language": "python",
   "name": "python3"
  },
  "language_info": {
   "codemirror_mode": {
    "name": "ipython",
    "version": 2
   },
   "file_extension": ".py",
   "mimetype": "text/x-python",
   "name": "python",
   "nbconvert_exporter": "python",
   "pygments_lexer": "ipython2",
   "version": "2.7.6"
  }
 },
 "nbformat": 4,
 "nbformat_minor": 5
}
