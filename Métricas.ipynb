{
 "cells": [
  {
   "cell_type": "code",
   "execution_count": 1,
   "id": "initial_id",
   "metadata": {
    "collapsed": true,
    "ExecuteTime": {
     "end_time": "2025-05-19T18:17:49.695445900Z",
     "start_time": "2025-05-19T18:17:49.552873300Z"
    }
   },
   "outputs": [],
   "source": [
    "import random\n",
    "import networkx as nx\n",
    "\n",
    "def seleccionar_inicio_y_final(grafo):\n",
    "    # 1. Seleccionar un nodo de inicio aleatorio\n",
    "    inicio = random.choice(list(grafo.nodes))\n",
    "\n",
    "    # 2. Calcular las distancias desde el inicio a todos los demás nodos\n",
    "    distancias = nx.single_source_dijkstra_path_length(grafo, inicio)\n",
    "\n",
    "    # 3. Filtrar los nodos hoja (grado 1)\n",
    "    hojas = [nodo for nodo in grafo.nodes if grafo.degree[nodo] == 1]\n",
    "\n",
    "    # 4. Elegir entre las hojas la más lejana al nodo de inicio\n",
    "    hoja_mas_lejana = max(hojas, key=lambda nodo: distancias.get(nodo, -1))\n",
    "\n",
    "    return inicio, hoja_mas_lejana"
   ]
  },
  {
   "cell_type": "code",
   "execution_count": null,
   "outputs": [],
   "source": [],
   "metadata": {
    "collapsed": false
   },
   "id": "f6fa5192f3b45dad"
  }
 ],
 "metadata": {
  "kernelspec": {
   "display_name": "Python 3",
   "language": "python",
   "name": "python3"
  },
  "language_info": {
   "codemirror_mode": {
    "name": "ipython",
    "version": 2
   },
   "file_extension": ".py",
   "mimetype": "text/x-python",
   "name": "python",
   "nbconvert_exporter": "python",
   "pygments_lexer": "ipython2",
   "version": "2.7.6"
  }
 },
 "nbformat": 4,
 "nbformat_minor": 5
}
